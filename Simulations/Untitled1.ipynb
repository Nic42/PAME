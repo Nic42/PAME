{
 "cells": [
  {
   "cell_type": "code",
   "execution_count": 32,
   "metadata": {
    "collapsed": true
   },
   "outputs": [],
   "source": [
    "import os"
   ]
  },
  {
   "cell_type": "code",
   "execution_count": 33,
   "metadata": {
    "collapsed": false
   },
   "outputs": [],
   "source": [
    "#%%capture\n",
    "#olddir = os.getcwd()\n",
    "#%cd /home/glue/Desktop/fibersim\n",
    "#%run setup.py develop\n",
    "#os.chdir(olddir)"
   ]
  },
  {
   "cell_type": "code",
   "execution_count": 34,
   "metadata": {
    "collapsed": false
   },
   "outputs": [
    {
     "name": "stdout",
     "output_type": "stream",
     "text": [
      "Populating the interactive namespace from numpy and matplotlib\n"
     ]
    }
   ],
   "source": [
    "%pylab inline\n",
    "from pame.simparser import LayerSimParser\n",
    "from pame.custompp import pprint as pp #<--- pretty-print with special array formatting"
   ]
  },
  {
   "cell_type": "code",
   "execution_count": 35,
   "metadata": {
    "collapsed": false
   },
   "outputs": [],
   "source": [
    "s = LayerSimParser.load_pickle('Layersim0.mpickle')"
   ]
  },
  {
   "cell_type": "code",
   "execution_count": 36,
   "metadata": {
    "collapsed": false
   },
   "outputs": [
    {
     "data": {
      "text/plain": [
       "<pame.simparser.LayerSimParser at 0x7f2c78b35ef0>"
      ]
     },
     "execution_count": 36,
     "metadata": {},
     "output_type": "execute_result"
    }
   ],
   "source": [
    "s"
   ]
  },
  {
   "cell_type": "code",
   "execution_count": 37,
   "metadata": {
    "collapsed": false
   },
   "outputs": [
    {
     "data": {
      "text/plain": [
       "{'selected_layer.d': array([ 50.]),\n",
       " 'selected_material.Vfrac': array([ 0.]),\n",
       " 'selected_material.r_core': array([ 25.])}"
      ]
     },
     "execution_count": 37,
     "metadata": {},
     "output_type": "execute_result"
    }
   ],
   "source": [
    "from traitsui.api import ValueEditor\n",
    "\n",
    "s.inputs"
   ]
  },
  {
   "cell_type": "code",
   "execution_count": 38,
   "metadata": {
    "collapsed": true
   },
   "outputs": [],
   "source": [
    "s.backend = 'skspec'"
   ]
  },
  {
   "cell_type": "code",
   "execution_count": 39,
   "metadata": {
    "collapsed": false
   },
   "outputs": [
    {
     "name": "stdout",
     "output_type": "stream",
     "text": [
      "ndarray(complex128, length=5, start=(-1.66 +5.74j), end=(-16.49 +1.06j))\n"
     ]
    }
   ],
   "source": [
    "pp(s.results['step_0']['selected_layer']['material']['material1']['earray'])"
   ]
  },
  {
   "cell_type": "code",
   "execution_count": 40,
   "metadata": {
    "collapsed": false
   },
   "outputs": [
    {
     "name": "stdout",
     "output_type": "stream",
     "text": [
      "{\n",
      "  \"step_0\": {\n",
      "    \"selected_layer\": {\n",
      "      \"layer_deisgnator\": \"nanoparticle\", \n",
      "      \"material\": {\n",
      "        \"mie_composite\": {\n",
      "          \"absorbance\": {\n",
      "            \"dtype\": \"float64\", \n",
      "            \"shape\": [\n",
      "              5\n",
      "            ], \n",
      "            \"__ndarray__\": \"NAuzbPT/rEDRSMnYyMCrQM3iXbVma7JAfM5o9PFPekCL/uvvhvZfQA==\"\n",
      "          }, \n",
      "          \"extinction\": {\n",
      "            \"dtype\": \"float64\", \n",
      "            \"shape\": [\n",
      "              5\n",
      "            ], \n",
      "            \"__ndarray__\": \"juSHE2xKsEDVrXhsx8itQE/eij/LG7ZADB46DndkhEAkCOx9iudrQA==\"\n",
      "          }, \n",
      "          \"scattering\": {\n",
      "            \"dtype\": \"float64\", \n",
      "            \"shape\": [\n",
      "              5\n",
      "            ], \n",
      "            \"__ndarray__\": \"Pu/l0h2nfEAiKHud9D9wQA3cZ1Ekg41AOdsWUPjxbEC9EewLjthXQA==\"\n",
      "          }, \n",
      "          \"r_core\": 27.0\n",
      "        }, \n",
      "        \"material_medium\": {\n",
      "          \"earray\": {\n",
      "            \"dtype\": \"complex128\", \n",
      "            \"shape\": [\n",
      "              5\n",
      "            ], \n",
      "            \"__ndarray__\": \"rGiRIlWH+r8E2kfHBvEWQAnj3g78vfy/hV5HiEvEEkDjJhG/erkXwI+9F1C7xgBAGXATvIxqJsAQjxxb/Bf1P0lB4BZmfDDA65Z4m5IH8T8=\"\n",
      "          }, \n",
      "          \"name\": \"\", \n",
      "          \"narray\": {\n",
      "            \"dtype\": \"complex128\", \n",
      "            \"shape\": [\n",
      "              5\n",
      "            ], \n",
      "            \"__ndarray__\": \"HodCEWx+9z/ggb8kaT//PyCIg+lBU/Q/jp7ozN+L/T//h1npQiXbP881qorCxgNA1FwbycooyT8gxQuWNNQKQPhT46WbxMA/5BQdyeU/EEA=\"\n",
      "          }\n",
      "        }, \n",
      "        \"r_core\": 25.0, \n",
      "        \"r_plastform\": 31250.0, \n",
      "        \"mix\": {\n",
      "          \"name\": \"Composite Material with Spherical Inclusions\", \n",
      "          \"r_plastform\": 31250.0, \n",
      "          \"material1\": {\n",
      "            \"name\": \"  IN   Composite Material with Spherical Inclusions\", \n",
      "            \"earray\": {\n",
      "              \"dtype\": \"complex128\", \n",
      "              \"shape\": [\n",
      "                5\n",
      "              ], \n",
      "              \"__ndarray__\": \"wMHrwenGrD+QEODOxLgWQKT3iSRNh+C/xvdcFRYvE0Ci8eDzgiEawIeSMaTYeQpAPEQcOjxeMsCB49YE43gQQBvK/brK1EbAAHtK9le4IkA=\"\n",
      "            }, \n",
      "            \"material1\": {\n",
      "              \"earray\": {\n",
      "                \"dtype\": \"complex128\", \n",
      "                \"shape\": [\n",
      "                  5\n",
      "                ], \n",
      "                \"__ndarray__\": \"rGiRIlWH+r8E2kfHBvEWQAnj3g78vfy/hV5HiEvEEkDjJhG/erkXwI+9F1C7xgBAGXATvIxqJsAQjxxb/Bf1P0lB4BZmfDDA65Z4m5IH8T8=\"\n",
      "              }, \n",
      "              \"name\": \"\", \n",
      "              \"narray\": {\n",
      "                \"dtype\": \"complex128\", \n",
      "                \"shape\": [\n",
      "                  5\n",
      "                ], \n",
      "                \"__ndarray__\": \"HodCEWx+9z/ggb8kaT//PyCIg+lBU/Q/jp7ozN+L/T//h1npQiXbP881qorCxgNA1FwbycooyT8gxQuWNNQKQPhT46WbxMA/5BQdyeU/EEA=\"\n",
      "              }\n",
      "            }, \n",
      "            \"material2\": {\n",
      "              \"name\": \"Composite Material with Spherical Inclusions\", \n",
      "              \"r_plastform\": 25.0, \n",
      "              \"material1\": {\n",
      "                \"earray\": {\n",
      "                  \"dtype\": \"complex128\", \n",
      "                  \"shape\": [\n",
      "                    5\n",
      "                  ], \n",
      "                  \"__ndarray__\": \"9Hak7jhKAUAAAAAAAAAAACfYU89iJAFAAAAAAAAAAABXoxLh+wwBQAAAAAAAAAAAjNM5LhP9AEAAAAAAAAAAAFiBsg5p8QBAAAAAAAAAAAA=\"\n",
      "                }, \n",
      "                \"name\": \"Sellmeir\", \n",
      "                \"narray\": {\n",
      "                  \"dtype\": \"complex128\", \n",
      "                  \"shape\": [\n",
      "                    5\n",
      "                  ], \n",
      "                  \"__ndarray__\": \"yY+oepiF9z8AAAAAAAAAANgS6qjNa/c/AAAAAAAAAAAoUoeEy1v3PwAAAAAAAAAAEHACSONQ9z8AAAAAAAAAABdjy8DgSPc/AAAAAAAAAAA=\"\n",
      "                }\n",
      "              }, \n",
      "              \"earray\": {\n",
      "                \"dtype\": \"complex128\", \n",
      "                \"shape\": [\n",
      "                  5\n",
      "                ], \n",
      "                \"__ndarray__\": \"j0RUBhYp/T8AAAAAAAAAAKmXG0FE7vw/AAAAAAAAAAAkdxsTMcj8PwAAAAAAAAAA3zDvNUKu/D8AAAAAAAAAAP2aed/Tm/w/AAAAAAAAAAA=\"\n",
      "              }, \n",
      "              \"platform\": \"Shell Platform\", \n",
      "              \"material2\": {\n",
      "                \"earray\": {\n",
      "                  \"dtype\": \"complex128\", \n",
      "                  \"shape\": [\n",
      "                    5\n",
      "                  ], \n",
      "                  \"__ndarray__\": \"rbDg17Tc/D8AAAAAAAAAALaKPJkoovw/AAAAAAAAAAAc036EJXz8PwAAAAAAAAAAPBTL5UBi/D8AAAAAAAAAAC9Mv6fjT/w/AAAAAAAAAAA=\"\n",
      "                }, \n",
      "                \"name\": \"Dispersive Water\", \n",
      "                \"narray\": {\n",
      "                  \"dtype\": \"complex128\", \n",
      "                  \"shape\": [\n",
      "                    5\n",
      "                  ], \n",
      "                  \"__ndarray__\": \"+IiYEkl99T8AAAAAAAAAAO83sjNyZ/U/AAAAAAAAAADWQrRhOFn1PwAAAAAAAAAApJtGNYJP9T8AAAAAAAAAABCIUj6cSPU/AAAAAAAAAAA=\"\n",
      "                }\n",
      "              }, \n",
      "              \"coverage\": 19.0678, \n",
      "              \"Vfrac\": 0.1, \n",
      "              \"mixing_style\": \"MGMOD\", \n",
      "              \"r_particle\": 1.0, \n",
      "              \"narray\": {\n",
      "                \"dtype\": \"complex128\", \n",
      "                \"shape\": [\n",
      "                  5\n",
      "                ], \n",
      "                \"__ndarray__\": \"YsfCjKWZ9T8AAAAAAAAAADT9rp3Rg/U/AAAAAAAAAAAUKlqapHX1PwAAAAAAAAAApehCffdr9T8AAAAAAAAAAIMH2k4UZfU/AAAAAAAAAAA=\"\n",
      "              }\n",
      "            }, \n",
      "            \"Vfrac\": 0.1, \n",
      "            \"mixing_style\": \"Custom Equiv\", \n",
      "            \"narray\": {\n",
      "              \"dtype\": \"complex128\", \n",
      "              \"shape\": [\n",
      "                5\n",
      "              ], \n",
      "              \"__ndarray__\": \"4xGY9DMZ+z9S0F0C59T6PxvaAurwevc/A5kAnRAl+j+5s3x6Ix7kPzp/ur2LDgVAmiz/yfWO3j/Axr9g0D8RQFMdvcNUDOY/SZV07HMrG0A=\"\n",
      "            }\n",
      "          }, \n",
      "          \"earray\": {\n",
      "            \"dtype\": \"complex128\", \n",
      "            \"shape\": [\n",
      "              5\n",
      "            ], \n",
      "            \"__ndarray__\": \"rbDg17Tc/D8AAAAAAAAAALaKPJkoovw/AAAAAAAAAAAc036EJXz8PwAAAAAAAAAAPBTL5UBi/D8AAAAAAAAAAC9Mv6fjT/w/AAAAAAAAAAA=\"\n",
      "          }, \n",
      "          \"platform\": \"Disk\", \n",
      "          \"material2\": {\n",
      "            \"earray\": {\n",
      "              \"dtype\": \"complex128\", \n",
      "              \"shape\": [\n",
      "                5\n",
      "              ], \n",
      "              \"__ndarray__\": \"rbDg17Tc/D8AAAAAAAAAALaKPJkoovw/AAAAAAAAAAAc036EJXz8PwAAAAAAAAAAPBTL5UBi/D8AAAAAAAAAAC9Mv6fjT/w/AAAAAAAAAAA=\"\n",
      "            }, \n",
      "            \"name\": \"Dispersive Water\", \n",
      "            \"narray\": {\n",
      "              \"dtype\": \"complex128\", \n",
      "              \"shape\": [\n",
      "                5\n",
      "              ], \n",
      "              \"__ndarray__\": \"+IiYEkl99T8AAAAAAAAAAO83sjNyZ/U/AAAAAAAAAADWQrRhOFn1PwAAAAAAAAAApJtGNYJP9T8AAAAAAAAAABCIUj6cSPU/AAAAAAAAAAA=\"\n",
      "            }\n",
      "          }, \n",
      "          \"coverage\": 0.0, \n",
      "          \"Vfrac\": 0.0, \n",
      "          \"mixing_style\": \"MGMOD\", \n",
      "          \"r_particle\": 25.0, \n",
      "          \"narray\": {\n",
      "            \"dtype\": \"complex128\", \n",
      "            \"shape\": [\n",
      "              5\n",
      "            ], \n",
      "            \"__ndarray__\": \"+IiYEkl99T8AAAAAAAAAAO83sjNyZ/U/AAAAAAAAAADWQrRhOFn1PwAAAAAAAAAApJtGNYJP9T8AAAAAAAAAABCIUj6cSPU/AAAAAAAAAAA=\"\n",
      "          }\n",
      "        }, \n",
      "        \"material_core\": {\n",
      "          \"earray\": {\n",
      "            \"dtype\": \"complex128\", \n",
      "            \"shape\": [\n",
      "              5\n",
      "            ], \n",
      "            \"__ndarray__\": \"rGiRIlWH+r8E2kfHBvEWQAnj3g78vfy/hV5HiEvEEkDjJhG/erkXwI+9F1C7xgBAGXATvIxqJsAQjxxb/Bf1P0lB4BZmfDDA65Z4m5IH8T8=\"\n",
      "          }, \n",
      "          \"name\": \"\", \n",
      "          \"narray\": {\n",
      "            \"dtype\": \"complex128\", \n",
      "            \"shape\": [\n",
      "              5\n",
      "            ], \n",
      "            \"__ndarray__\": \"HodCEWx+9z/ggb8kaT//PyCIg+lBU/Q/jp7ozN+L/T//h1npQiXbP881qorCxgNA1FwbycooyT8gxQuWNNQKQPhT46WbxMA/5BQdyeU/EEA=\"\n",
      "          }\n",
      "        }, \n",
      "        \"material1\": {\n",
      "          \"earray\": {\n",
      "            \"dtype\": \"complex128\", \n",
      "            \"shape\": [\n",
      "              5\n",
      "            ], \n",
      "            \"__ndarray__\": \"rGiRIlWH+r8E2kfHBvEWQAnj3g78vfy/hV5HiEvEEkDjJhG/erkXwI+9F1C7xgBAGXATvIxqJsAQjxxb/Bf1P0lB4BZmfDDA65Z4m5IH8T8=\"\n",
      "          }, \n",
      "          \"name\": \"\", \n",
      "          \"narray\": {\n",
      "            \"dtype\": \"complex128\", \n",
      "            \"shape\": [\n",
      "              5\n",
      "            ], \n",
      "            \"__ndarray__\": \"HodCEWx+9z/ggb8kaT//PyCIg+lBU/Q/jp7ozN+L/T//h1npQiXbP881qorCxgNA1FwbycooyT8gxQuWNNQKQPhT46WbxMA/5BQdyeU/EEA=\"\n",
      "          }\n",
      "        }, \n",
      "        \"mie_full\": {\n",
      "          \"absorbance\": {\n",
      "            \"dtype\": \"float64\", \n",
      "            \"shape\": [\n",
      "              5\n",
      "            ], \n",
      "            \"__ndarray__\": \"fbPwXs8nrUByF8JEK+OrQCz0T3ebMbNAAJdkNiTMeUCSnKD/i6tYQA==\"\n",
      "          }, \n",
      "          \"shell_width\": 2.0, \n",
      "          \"extinction\": {\n",
      "            \"dtype\": \"float64\", \n",
      "            \"shape\": [\n",
      "              5\n",
      "            ], \n",
      "            \"__ndarray__\": \"xA1YCF9usECgcXlbO/etQHpTIXEdFbdApMCv8oJlhEDpF/Y/DYloQA==\"\n",
      "          }, \n",
      "          \"scattering\": {\n",
      "            \"dtype\": \"float64\", \n",
      "            \"shape\": [\n",
      "              5\n",
      "            ], \n",
      "            \"__ndarray__\": \"VkD7jXWnfUBs0bq1gKBwQHD6is4PHI9AkdT1XcP9bUBAk0uAjmZYQA==\"\n",
      "          }, \n",
      "          \"r_core\": 25.0\n",
      "        }, \n",
      "        \"name\": \"Composite NP:   IN Dispersive Water\", \n",
      "        \"material2\": {\n",
      "          \"earray\": {\n",
      "            \"dtype\": \"complex128\", \n",
      "            \"shape\": [\n",
      "              5\n",
      "            ], \n",
      "            \"__ndarray__\": \"rbDg17Tc/D8AAAAAAAAAALaKPJkoovw/AAAAAAAAAAAc036EJXz8PwAAAAAAAAAAPBTL5UBi/D8AAAAAAAAAAC9Mv6fjT/w/AAAAAAAAAAA=\"\n",
      "          }, \n",
      "          \"name\": \"Dispersive Water\", \n",
      "          \"narray\": {\n",
      "            \"dtype\": \"complex128\", \n",
      "            \"shape\": [\n",
      "              5\n",
      "            ], \n",
      "            \"__ndarray__\": \"+IiYEkl99T8AAAAAAAAAAO83sjNyZ/U/AAAAAAAAAADWQrRhOFn1PwAAAAAAAAAApJtGNYJP9T8AAAAAAAAAABCIUj6cSPU/AAAAAAAAAAA=\"\n",
      "          }\n",
      "        }, \n",
      "        \"platform\": \"Disk\", \n",
      "        \"earray\": {\n",
      "          \"dtype\": \"complex128\", \n",
      "          \"shape\": [\n",
      "            5\n",
      "          ], \n",
      "          \"__ndarray__\": \"rbDg17Tc/D8AAAAAAAAAALaKPJkoovw/AAAAAAAAAAAc036EJXz8PwAAAAAAAAAAPBTL5UBi/D8AAAAAAAAAAC9Mv6fjT/w/AAAAAAAAAAA=\"\n",
      "        }, \n",
      "        \"material_shell\": {\n",
      "          \"name\": \"Composite Material with Spherical Inclusions\", \n",
      "          \"r_plastform\": 25.0, \n",
      "          \"material1\": {\n",
      "            \"earray\": {\n",
      "              \"dtype\": \"complex128\", \n",
      "              \"shape\": [\n",
      "                5\n",
      "              ], \n",
      "              \"__ndarray__\": \"9Hak7jhKAUAAAAAAAAAAACfYU89iJAFAAAAAAAAAAABXoxLh+wwBQAAAAAAAAAAAjNM5LhP9AEAAAAAAAAAAAFiBsg5p8QBAAAAAAAAAAAA=\"\n",
      "            }, \n",
      "            \"name\": \"Sellmeir\", \n",
      "            \"narray\": {\n",
      "              \"dtype\": \"complex128\", \n",
      "              \"shape\": [\n",
      "                5\n",
      "              ], \n",
      "              \"__ndarray__\": \"yY+oepiF9z8AAAAAAAAAANgS6qjNa/c/AAAAAAAAAAAoUoeEy1v3PwAAAAAAAAAAEHACSONQ9z8AAAAAAAAAABdjy8DgSPc/AAAAAAAAAAA=\"\n",
      "            }\n",
      "          }, \n",
      "          \"earray\": {\n",
      "            \"dtype\": \"complex128\", \n",
      "            \"shape\": [\n",
      "              5\n",
      "            ], \n",
      "            \"__ndarray__\": \"j0RUBhYp/T8AAAAAAAAAAKmXG0FE7vw/AAAAAAAAAAAkdxsTMcj8PwAAAAAAAAAA3zDvNUKu/D8AAAAAAAAAAP2aed/Tm/w/AAAAAAAAAAA=\"\n",
      "          }, \n",
      "          \"platform\": \"Shell Platform\", \n",
      "          \"material2\": {\n",
      "            \"earray\": {\n",
      "              \"dtype\": \"complex128\", \n",
      "              \"shape\": [\n",
      "                5\n",
      "              ], \n",
      "              \"__ndarray__\": \"rbDg17Tc/D8AAAAAAAAAALaKPJkoovw/AAAAAAAAAAAc036EJXz8PwAAAAAAAAAAPBTL5UBi/D8AAAAAAAAAAC9Mv6fjT/w/AAAAAAAAAAA=\"\n",
      "            }, \n",
      "            \"name\": \"Dispersive Water\", \n",
      "            \"narray\": {\n",
      "              \"dtype\": \"complex128\", \n",
      "              \"shape\": [\n",
      "                5\n",
      "              ], \n",
      "              \"__ndarray__\": \"+IiYEkl99T8AAAAAAAAAAO83sjNyZ/U/AAAAAAAAAADWQrRhOFn1PwAAAAAAAAAApJtGNYJP9T8AAAAAAAAAABCIUj6cSPU/AAAAAAAAAAA=\"\n",
      "            }\n",
      "          }, \n",
      "          \"coverage\": 19.0678, \n",
      "          \"Vfrac\": 0.1, \n",
      "          \"mixing_style\": \"MGMOD\", \n",
      "          \"r_particle\": 1.0, \n",
      "          \"narray\": {\n",
      "            \"dtype\": \"complex128\", \n",
      "            \"shape\": [\n",
      "              5\n",
      "            ], \n",
      "            \"__ndarray__\": \"YsfCjKWZ9T8AAAAAAAAAADT9rp3Rg/U/AAAAAAAAAAAUKlqapHX1PwAAAAAAAAAApehCffdr9T8AAAAAAAAAAIMH2k4UZfU/AAAAAAAAAAA=\"\n",
      "          }\n",
      "        }, \n",
      "        \"coverage\": 0.0, \n",
      "        \"Vfrac\": 0.0, \n",
      "        \"shell_thickness\": 2.0, \n",
      "        \"mixing_style\": \"MGMOD\", \n",
      "        \"r_particle\": 2.0, \n",
      "        \"narray\": {\n",
      "          \"dtype\": \"complex128\", \n",
      "          \"shape\": [\n",
      "            5\n",
      "          ], \n",
      "          \"__ndarray__\": \"+IiYEkl99T8AAAAAAAAAAO83sjNyZ/U/AAAAAAAAAADWQrRhOFn1PwAAAAAAAAAApJtGNYJP9T8AAAAAAAAAABCIUj6cSPU/AAAAAAAAAAA=\"\n",
      "        }\n",
      "      }, \n",
      "      \"layer_name\": \"Nanosphere with Shell\", \n",
      "      \"layer_thickness\": 50.0\n",
      "    }\n",
      "  }\n",
      "}\n"
     ]
    }
   ],
   "source": [
    "from pame.customjson import dumps\n",
    "print (dumps(s.results, indent=2))\n"
   ]
  },
  {
   "cell_type": "code",
   "execution_count": 41,
   "metadata": {
    "collapsed": false
   },
   "outputs": [
    {
     "data": {
      "text/plain": [
       "{'Notes': '<ADD NOTES ON SIMULATION>',\n",
       " 'Simulation Name': 'Layersim0',\n",
       " 'Steps': 1,\n",
       " 'Storage': OrderedDict([('Optical Quantities', ['R', 'T', 'A']), ('Angle Averaging', 'Average'), ('Copy Full Optical Stack', False), ('Layer Quantities', []), ('Deep Layer Storage', 'Selected Layer')]),\n",
       " 'Time/Date': 'Wed Jan 28 15:56:14 2015'}"
      ]
     },
     "execution_count": 41,
     "metadata": {},
     "output_type": "execute_result"
    }
   ],
   "source": [
    "s.about"
   ]
  },
  {
   "cell_type": "code",
   "execution_count": 65,
   "metadata": {
    "collapsed": false
   },
   "outputs": [
    {
     "data": {
      "text/plain": [
       "{'step_0': OrderedDict([('R_avg', array([ 0.00216801+0.j,  0.00215291+0.j,  0.00214937+0.j,  0.00214712+0.j,\n",
       "        0.00214341+0.j])), ('T_avg', array([ 0.99783199+0.j,  0.99784709+0.j,  0.99785063+0.j,  0.99785288+0.j,\n",
       "        0.99785659+0.j])), ('A_avg', array([ -2.14881876e-17+0.j,  -2.86509168e-17+0.j,   4.65577397e-17+0.j,\n",
       "        -2.86509168e-17+0.j,  -3.93950106e-17+0.j])), ('my buddy', array([ 1.80388340+0.j,  1.78958950+0.j,  1.78030922+0.j,  1.77398767+0.j,\n",
       "        1.76950422+0.j]))])}"
      ]
     },
     "execution_count": 65,
     "metadata": {},
     "output_type": "execute_result"
    }
   ],
   "source": [
    "s.primary"
   ]
  },
  {
   "cell_type": "code",
   "execution_count": 43,
   "metadata": {
    "collapsed": false
   },
   "outputs": [
    {
     "data": {
      "text/plain": [
       "{'selected_layer.d': array([ 50.]),\n",
       " 'selected_material.Vfrac': array([ 0.]),\n",
       " 'selected_material.r_core': array([ 25.])}"
      ]
     },
     "execution_count": 43,
     "metadata": {},
     "output_type": "execute_result"
    }
   ],
   "source": [
    "s.inputs"
   ]
  },
  {
   "cell_type": "code",
   "execution_count": 44,
   "metadata": {
    "collapsed": false
   },
   "outputs": [
    {
     "name": "stdout",
     "output_type": "stream",
     "text": [
      "Inputs:\n",
      "\tselected_material.r_core : <type 'numpy.ndarray'>(25.0 - 25.0)\n",
      "\tselected_material.Vfrac : <type 'numpy.ndarray'>(0.0 - 0.0)\n",
      "\tselected_layer.d : <type 'numpy.ndarray'>(50.0 - 50.0)\n",
      "\n",
      "Primary:\n",
      "\t<class 'pandas.core.panel.Panel'>\n",
      "\tDimensions: 3 (items) x 5 (major_axis) x 1 (minor_axis)\n",
      "\tItems axis: A_avg to T_avg\n",
      "\tMajor_axis axis: 400.0 to 700.0\n",
      "\tMinor_axis axis: step_0 to step_0\n",
      "\n",
      "About:\n",
      "\tSteps : 1\n",
      "\tNotes : <ADD NOTES ON SIMULATION>\n",
      "\tTime/Date : Wed Jan 28 15:56:14 2015\n",
      "\tStorage:\n",
      "\t\tOptical Quantities : <type 'list'>(R - A)\n",
      "\t\tAngle Averaging : Average\n",
      "\t\tCopy Full Optical Stack : False\n",
      "\t\tLayer Quantities : []\n",
      "\t\tDeep Layer Storage : Selected Layer\n",
      "\n",
      "\tSimulation Name : Layersim0\n",
      "\n",
      "Static Parameters:\n",
      "\tSpectral Parms.:\n",
      "\t\tx_increment : 60.0\n",
      "\t\txstart : 400.0\n",
      "\t\txend : 700.0\n",
      "\t\tx_samples : 5\n",
      "\t\tlambdas : <type 'numpy.ndarray'>(400.0 - 700.0)\n",
      "\tFiber:\n",
      "\t\tCore Diameter : 62.5\n",
      "\t\tStrip Region : N/A\n",
      "\t\tCritical Angle : 15.96\n",
      "\t\tOptical Configuration : Axial\n",
      "\t\tAngle Min : 0.5\n",
      "\t\tMode : S-polarized\n",
      "\t\tAngle Max : 15.96\n",
      "\t\tNumerical Aperature : 0.275\n",
      "\t\tAngle Inc. : 0.5\n"
     ]
    }
   ],
   "source": [
    "print s.summary()"
   ]
  },
  {
   "cell_type": "code",
   "execution_count": 45,
   "metadata": {
    "collapsed": false
   },
   "outputs": [
    {
     "data": {
      "text/plain": [
       "OrderedDict([('R_avg', array([ 0.00216801+0.j,  0.00215291+0.j,  0.00214937+0.j,  0.00214712+0.j,\n",
       "        0.00214341+0.j])), ('T_avg', array([ 0.99783199+0.j,  0.99784709+0.j,  0.99785063+0.j,  0.99785288+0.j,\n",
       "        0.99785659+0.j])), ('A_avg', array([ -2.14881876e-17+0.j,  -2.86509168e-17+0.j,   4.65577397e-17+0.j,\n",
       "        -2.86509168e-17+0.j,  -3.93950106e-17+0.j]))])"
      ]
     },
     "execution_count": 45,
     "metadata": {},
     "output_type": "execute_result"
    }
   ],
   "source": [
    "s.primary['step_0']"
   ]
  },
  {
   "cell_type": "code",
   "execution_count": 46,
   "metadata": {
    "collapsed": false
   },
   "outputs": [
    {
     "data": {
      "text/plain": [
       "array([ 1.80388340+0.j,  1.78958950+0.j,  1.78030922+0.j,  1.77398767+0.j,\n",
       "        1.76950422+0.j])"
      ]
     },
     "execution_count": 46,
     "metadata": {},
     "output_type": "execute_result"
    }
   ],
   "source": [
    "s.results.step_0.selected_layer.material.earray"
   ]
  },
  {
   "cell_type": "code",
   "execution_count": 47,
   "metadata": {
    "collapsed": false
   },
   "outputs": [
    {
     "data": {
      "text/plain": [
       "{'selected_layer': {'layer_deisgnator': 'nanoparticle',\n",
       "  'layer_name': 'Nanosphere with Shell',\n",
       "  'layer_thickness': 50.0,\n",
       "  'material': {'Vfrac': 0.0,\n",
       "   'coverage': 0.0,\n",
       "   'earray': array([ 1.80388340+0.j,  1.78958950+0.j,  1.78030922+0.j,  1.77398767+0.j,\n",
       "           1.76950422+0.j]),\n",
       "   'material1': {'earray': array([ -1.65804018+5.73537742j,  -1.79638296+4.69169438j,\n",
       "            -5.93113230+2.09703696j, -11.20810497+1.3183559j ,\n",
       "           -16.48593276+1.0643488j ]),\n",
       "    'name': '',\n",
       "    'narray': array([ 1.46836478+1.95298113j,  1.27032653+1.84664898j,\n",
       "            0.42414925+2.47205075j,  0.19655738+3.35361593j,\n",
       "            0.13100000+4.0624j    ])},\n",
       "   'material2': {'earray': array([ 1.80388340+0.j,  1.78958950+0.j,  1.78030922+0.j,  1.77398767+0.j,\n",
       "            1.76950422+0.j]),\n",
       "    'name': 'Dispersive Water',\n",
       "    'narray': array([ 1.34308727+0.j,  1.33775540+0.j,  1.33428229+0.j,  1.33191129+0.j,\n",
       "            1.33022713+0.j])},\n",
       "   'material_core': {'earray': array([ -1.65804018+5.73537742j,  -1.79638296+4.69169438j,\n",
       "            -5.93113230+2.09703696j, -11.20810497+1.3183559j ,\n",
       "           -16.48593276+1.0643488j ]),\n",
       "    'name': '',\n",
       "    'narray': array([ 1.46836478+1.95298113j,  1.27032653+1.84664898j,\n",
       "            0.42414925+2.47205075j,  0.19655738+3.35361593j,\n",
       "            0.13100000+4.0624j    ])},\n",
       "   'material_medium': {'earray': array([ -1.65804018+5.73537742j,  -1.79638296+4.69169438j,\n",
       "            -5.93113230+2.09703696j, -11.20810497+1.3183559j ,\n",
       "           -16.48593276+1.0643488j ]),\n",
       "    'name': '',\n",
       "    'narray': array([ 1.46836478+1.95298113j,  1.27032653+1.84664898j,\n",
       "            0.42414925+2.47205075j,  0.19655738+3.35361593j,\n",
       "            0.13100000+4.0624j    ])},\n",
       "   'material_shell': {'Vfrac': 0.1,\n",
       "    'coverage': 19.0678,\n",
       "    'earray': array([ 1.82253077+0.j,  1.80817056+0.j,  1.79887493+0.j,  1.79254361+0.j,\n",
       "            1.78804385+0.j]),\n",
       "    'material1': {'earray': array([ 2.16124140+0.j,  2.14276659+0.j,  2.13133980+0.j,  2.12357174+0.j,\n",
       "             2.11787616+0.j]),\n",
       "     'name': 'Sellmeir',\n",
       "     'narray': array([ 1.47011612+0.j,  1.46381918+0.j,  1.45991089+0.j,  1.45724800+0.j,\n",
       "             1.45529247+0.j])},\n",
       "    'material2': {'earray': array([ 1.80388340+0.j,  1.78958950+0.j,  1.78030922+0.j,  1.77398767+0.j,\n",
       "             1.76950422+0.j]),\n",
       "     'name': 'Dispersive Water',\n",
       "     'narray': array([ 1.34308727+0.j,  1.33775540+0.j,  1.33428229+0.j,  1.33191129+0.j,\n",
       "             1.33022713+0.j])},\n",
       "    'mixing_style': 'MGMOD',\n",
       "    'name': 'Composite Material with Spherical Inclusions',\n",
       "    'narray': array([ 1.35001140+0.j,  1.34468233+0.j,  1.34122143+0.j,  1.33885907+0.j,\n",
       "            1.33717757+0.j]),\n",
       "    'platform': 'Shell Platform',\n",
       "    'r_particle': 1.0,\n",
       "    'r_plastform': 25.0},\n",
       "   'mie_composite': {'absorbance': array([ 3711.97739181,  3552.39227895,  4715.40120494,   420.99657098,\n",
       "             127.85198591]),\n",
       "    'extinction': array([ 4170.42217302,  3812.38949945,  5659.79393833,   652.5581326 ,\n",
       "             223.23565575]),\n",
       "    'r_core': 27.0,\n",
       "    'scattering': array([ 458.44478121,  259.9972205 ,  944.39273339,  231.56156163,\n",
       "             95.38366983])},\n",
       "   'mie_full': {'absorbance': array([ 3731.90502121,  3569.58450896,  4913.60728931,   412.75884094,\n",
       "              98.68041983]),\n",
       "    'extinction': array([ 4206.37122107,  3835.61593227,  5909.11500748,   652.68893945,\n",
       "             196.28286741]),\n",
       "    'r_core': 25.0,\n",
       "    'scattering': array([ 474.46619986,  266.03142331,  995.50771817,  239.93009851,\n",
       "             97.60244758]),\n",
       "    'shell_width': 2.0},\n",
       "   'mix': {'Vfrac': 0.0,\n",
       "    'coverage': 0.0,\n",
       "    'earray': array([ 1.80388340+0.j,  1.78958950+0.j,  1.78030922+0.j,  1.77398767+0.j,\n",
       "            1.76950422+0.j]),\n",
       "    'material1': {'Vfrac': 0.1,\n",
       "     'earray': array([  0.05620509+5.68043826j,  -0.51651628+4.79598268j,\n",
       "             -6.53272611+3.30949524j, -18.36810649+4.11805351j,\n",
       "            -45.66243684+9.3600461j ]),\n",
       "     'material1': {'earray': array([ -1.65804018+5.73537742j,  -1.79638296+4.69169438j,\n",
       "              -5.93113230+2.09703696j, -11.20810497+1.3183559j ,\n",
       "             -16.48593276+1.0643488j ]),\n",
       "      'name': '',\n",
       "      'narray': array([ 1.46836478+1.95298113j,  1.27032653+1.84664898j,\n",
       "              0.42414925+2.47205075j,  0.19655738+3.35361593j,\n",
       "              0.13100000+4.0624j    ])},\n",
       "     'material2': {'Vfrac': 0.1,\n",
       "      'coverage': 19.0678,\n",
       "      'earray': array([ 1.82253077+0.j,  1.80817056+0.j,  1.79887493+0.j,  1.79254361+0.j,\n",
       "              1.78804385+0.j]),\n",
       "      'material1': {'earray': array([ 2.16124140+0.j,  2.14276659+0.j,  2.13133980+0.j,  2.12357174+0.j,\n",
       "               2.11787616+0.j]),\n",
       "       'name': 'Sellmeir',\n",
       "       'narray': array([ 1.47011612+0.j,  1.46381918+0.j,  1.45991089+0.j,  1.45724800+0.j,\n",
       "               1.45529247+0.j])},\n",
       "      'material2': {'earray': array([ 1.80388340+0.j,  1.78958950+0.j,  1.78030922+0.j,  1.77398767+0.j,\n",
       "               1.76950422+0.j]),\n",
       "       'name': 'Dispersive Water',\n",
       "       'narray': array([ 1.34308727+0.j,  1.33775540+0.j,  1.33428229+0.j,  1.33191129+0.j,\n",
       "               1.33022713+0.j])},\n",
       "      'mixing_style': 'MGMOD',\n",
       "      'name': 'Composite Material with Spherical Inclusions',\n",
       "      'narray': array([ 1.35001140+0.j,  1.34468233+0.j,  1.34122143+0.j,  1.33885907+0.j,\n",
       "              1.33717757+0.j]),\n",
       "      'platform': 'Shell Platform',\n",
       "      'r_particle': 1.0,\n",
       "      'r_plastform': 25.0},\n",
       "     'mixing_style': 'Custom Equiv',\n",
       "     'name': '  IN   Composite Material with Spherical Inclusions',\n",
       "     'narray': array([ 1.69365306+1.67697812j,  1.46751491+1.63404905j,\n",
       "             0.62867903+2.63210247j,  0.47747559+4.31231834j,\n",
       "             0.68900526+6.7924344j ])},\n",
       "    'material2': {'earray': array([ 1.80388340+0.j,  1.78958950+0.j,  1.78030922+0.j,  1.77398767+0.j,\n",
       "             1.76950422+0.j]),\n",
       "     'name': 'Dispersive Water',\n",
       "     'narray': array([ 1.34308727+0.j,  1.33775540+0.j,  1.33428229+0.j,  1.33191129+0.j,\n",
       "             1.33022713+0.j])},\n",
       "    'mixing_style': 'MGMOD',\n",
       "    'name': 'Composite Material with Spherical Inclusions',\n",
       "    'narray': array([ 1.34308727+0.j,  1.33775540+0.j,  1.33428229+0.j,  1.33191129+0.j,\n",
       "            1.33022713+0.j]),\n",
       "    'platform': 'Disk',\n",
       "    'r_particle': 25.0,\n",
       "    'r_plastform': 31250.0},\n",
       "   'mixing_style': 'MGMOD',\n",
       "   'name': 'Composite NP:   IN Dispersive Water',\n",
       "   'narray': array([ 1.34308727+0.j,  1.33775540+0.j,  1.33428229+0.j,  1.33191129+0.j,\n",
       "           1.33022713+0.j]),\n",
       "   'platform': 'Disk',\n",
       "   'r_core': 25.0,\n",
       "   'r_particle': 2.0,\n",
       "   'r_plastform': 31250.0,\n",
       "   'shell_thickness': 2.0}}}"
      ]
     },
     "execution_count": 47,
     "metadata": {},
     "output_type": "execute_result"
    }
   ],
   "source": [
    "getattr(s.results, 'step_0')"
   ]
  },
  {
   "cell_type": "code",
   "execution_count": 48,
   "metadata": {
    "collapsed": false
   },
   "outputs": [],
   "source": [
    "s.promote('selected_layer.material.earray', alias='my buddy')"
   ]
  },
  {
   "cell_type": "code",
   "execution_count": 49,
   "metadata": {
    "collapsed": false
   },
   "outputs": [
    {
     "data": {
      "text/plain": [
       "<matplotlib.axes._subplots.AxesSubplot at 0x7f2c788dd950>"
      ]
     },
     "execution_count": 49,
     "metadata": {},
     "output_type": "execute_result"
    },
    {
     "data": {
      "image/png": "[encoded data removed]",
      "text/plain": [
       "<matplotlib.figure.Figure at 0x7f2c788dd9d0>"
      ]
     },
     "metadata": {},
     "output_type": "display_data"
    }
   ],
   "source": [
    "s.primary_panel()['my buddy'].plot()"
   ]
  },
  {
   "cell_type": "code",
   "execution_count": 50,
   "metadata": {
    "collapsed": false
   },
   "outputs": [
    {
     "data": {
      "text/plain": [
       "{'Notes': '<ADD NOTES ON SIMULATION>',\n",
       " 'Simulation Name': 'Layersim0',\n",
       " 'Steps': 1,\n",
       " 'Storage': OrderedDict([('Optical Quantities', ['R', 'T', 'A']), ('Angle Averaging', 'Average'), ('Copy Full Optical Stack', False), ('Layer Quantities', []), ('Deep Layer Storage', 'Selected Layer')]),\n",
       " 'Time/Date': 'Wed Jan 28 15:56:14 2015'}"
      ]
     },
     "execution_count": 50,
     "metadata": {},
     "output_type": "execute_result"
    }
   ],
   "source": [
    "s.about"
   ]
  },
  {
   "cell_type": "code",
   "execution_count": 51,
   "metadata": {
    "collapsed": false
   },
   "outputs": [
    {
     "data": {
      "text/plain": [
       "{'step_0': OrderedDict([('R_avg', array([ 0.00216801+0.j,  0.00215291+0.j,  0.00214937+0.j,  0.00214712+0.j,\n",
       "        0.00214341+0.j])), ('T_avg', array([ 0.99783199+0.j,  0.99784709+0.j,  0.99785063+0.j,  0.99785288+0.j,\n",
       "        0.99785659+0.j])), ('A_avg', array([ -2.14881876e-17+0.j,  -2.86509168e-17+0.j,   4.65577397e-17+0.j,\n",
       "        -2.86509168e-17+0.j,  -3.93950106e-17+0.j])), ('my buddy', array([ 1.80388340+0.j,  1.78958950+0.j,  1.78030922+0.j,  1.77398767+0.j,\n",
       "        1.76950422+0.j]))])}"
      ]
     },
     "execution_count": 51,
     "metadata": {},
     "output_type": "execute_result"
    }
   ],
   "source": [
    "s.primary"
   ]
  },
  {
   "cell_type": "code",
   "execution_count": 52,
   "metadata": {
    "collapsed": false
   },
   "outputs": [
    {
     "data": {
      "text/plain": [
       "{'selected_layer.d': array([ 50.]),\n",
       " 'selected_material.Vfrac': array([ 0.]),\n",
       " 'selected_material.r_core': array([ 25.])}"
      ]
     },
     "execution_count": 52,
     "metadata": {},
     "output_type": "execute_result"
    }
   ],
   "source": [
    "s.inputs"
   ]
  },
  {
   "cell_type": "code",
   "execution_count": 53,
   "metadata": {
    "collapsed": false
   },
   "outputs": [
    {
     "data": {
      "text/html": [
       "<div style=\"max-height:1000px;max-width:1500px;overflow:auto;\">\n",
       "<table border=\"1\" class=\"dataframe\">\n",
       "  <thead>\n",
       "    <tr style=\"text-align: right;\">\n",
       "      <th></th>\n",
       "      <th>selected_layer.d</th>\n",
       "      <th>selected_material.Vfrac</th>\n",
       "      <th>selected_material.r_core</th>\n",
       "    </tr>\n",
       "  </thead>\n",
       "  <tbody>\n",
       "    <tr>\n",
       "      <th>0</th>\n",
       "      <td> 50</td>\n",
       "      <td> 0</td>\n",
       "      <td> 25</td>\n",
       "    </tr>\n",
       "  </tbody>\n",
       "</table>\n",
       "</div>"
      ],
      "text/plain": [
       "   selected_layer.d  selected_material.Vfrac  selected_material.r_core\n",
       "0                50                        0                        25"
      ]
     },
     "execution_count": 53,
     "metadata": {},
     "output_type": "execute_result"
    }
   ],
   "source": [
    "from pandas import DataFrame\n",
    "DataFrame(s.inputs)"
   ]
  },
  {
   "cell_type": "code",
   "execution_count": 54,
   "metadata": {
    "collapsed": false
   },
   "outputs": [
    {
     "data": {
      "text/plain": [
       "<matplotlib.axes._subplots.AxesSubplot at 0x7f2c78915990>"
      ]
     },
     "execution_count": 54,
     "metadata": {},
     "output_type": "execute_result"
    },
    {
     "data": {
      "image/png": "[encoded data removed]",
      "text/plain": [
       "<matplotlib.figure.Figure at 0x7f2c7891dad0>"
      ]
     },
     "metadata": {},
     "output_type": "display_data"
    }
   ],
   "source": [
    "s.primary_panel(minor_axis='selected_material.Vfrac', prefix='d=')['R_avg'].plot()"
   ]
  },
  {
   "cell_type": "code",
   "execution_count": 55,
   "metadata": {
    "collapsed": false
   },
   "outputs": [
    {
     "data": {
      "text/plain": [
       "array([ 0.00216801+0.j,  0.00215291+0.j,  0.00214937+0.j,  0.00214712+0.j,\n",
       "        0.00214341+0.j])"
      ]
     },
     "execution_count": 55,
     "metadata": {},
     "output_type": "execute_result"
    }
   ],
   "source": [
    "s.primary['step_0']['R_avg']"
   ]
  },
  {
   "cell_type": "code",
   "execution_count": 56,
   "metadata": {
    "collapsed": false
   },
   "outputs": [
    {
     "data": {
      "text/plain": [
       "{'selected_layer.d': array([ 50.]),\n",
       " 'selected_material.Vfrac': array([ 0.]),\n",
       " 'selected_material.r_core': array([ 25.])}"
      ]
     },
     "execution_count": 56,
     "metadata": {},
     "output_type": "execute_result"
    }
   ],
   "source": [
    "from traitsui.api import ValueEditor\n",
    "\n",
    "s.inputs"
   ]
  },
  {
   "cell_type": "code",
   "execution_count": 57,
   "metadata": {
    "collapsed": false
   },
   "outputs": [
    {
     "name": "stdout",
     "output_type": "stream",
     "text": [
      "Populating the interactive namespace from numpy and matplotlib\n"
     ]
    },
    {
     "data": {
      "image/png": "[encoded data removed]",
      "text/plain": [
       "<matplotlib.figure.Figure at 0x7f2c7899bd90>"
      ]
     },
     "metadata": {},
     "output_type": "display_data"
    }
   ],
   "source": [
    "%pylab inline\n",
    "s.primary_panel()['T_avg'].plot()\n",
    "plt.ylabel('Average Transmittance');"
   ]
  },
  {
   "cell_type": "code",
   "execution_count": 58,
   "metadata": {
    "collapsed": false
   },
   "outputs": [
    {
     "data": {
      "text/plain": [
       "array([ 1.80388340+0.j,  1.78958950+0.j,  1.78030922+0.j,  1.77398767+0.j,\n",
       "        1.76950422+0.j])"
      ]
     },
     "execution_count": 58,
     "metadata": {},
     "output_type": "execute_result"
    }
   ],
   "source": [
    "s.results['step_0']['selected_layer']['material']['earray']"
   ]
  },
  {
   "cell_type": "code",
   "execution_count": 59,
   "metadata": {
    "collapsed": false
   },
   "outputs": [
    {
     "ename": "NameError",
     "evalue": "name 'res2' is not defined",
     "output_type": "error",
     "traceback": [
      "\u001b[1;31m---------------------------------------------------------------------------\u001b[0m",
      "\u001b[1;31mNameError\u001b[0m                                 Traceback (most recent call last)",
      "\u001b[1;32m<ipython-input-59-0e6119bd26bb>\u001b[0m in \u001b[0;36m<module>\u001b[1;34m()\u001b[0m\n\u001b[1;32m----> 1\u001b[1;33m \u001b[0mres2\u001b[0m\u001b[1;33m.\u001b[0m\u001b[0mstep_0\u001b[0m\u001b[1;33m\u001b[0m\u001b[0m\n\u001b[0m",
      "\u001b[1;31mNameError\u001b[0m: name 'res2' is not defined"
     ]
    }
   ],
   "source": [
    "res2.step_0"
   ]
  },
  {
   "cell_type": "code",
   "execution_count": null,
   "metadata": {
    "collapsed": false
   },
   "outputs": [],
   "source": [
    "newaxis"
   ]
  },
  {
   "cell_type": "code",
   "execution_count": null,
   "metadata": {
    "collapsed": false
   },
   "outputs": [],
   "source": [
    "s.primary.rename(minor_axis=newaxis)"
   ]
  },
  {
   "cell_type": "code",
   "execution_count": null,
   "metadata": {
    "collapsed": false
   },
   "outputs": [],
   "source": [
    "s.about"
   ]
  },
  {
   "cell_type": "code",
   "execution_count": null,
   "metadata": {
    "collapsed": false
   },
   "outputs": [],
   "source": [
    "s.primary"
   ]
  },
  {
   "cell_type": "code",
   "execution_count": null,
   "metadata": {
    "collapsed": false
   },
   "outputs": [],
   "source": [
    "s._summary"
   ]
  },
  {
   "cell_type": "code",
   "execution_count": null,
   "metadata": {
    "collapsed": false
   },
   "outputs": [],
   "source": [
    "%pylab inline\n",
    "s.primary['A_avg'].plot()"
   ]
  },
  {
   "cell_type": "code",
   "execution_count": null,
   "metadata": {
    "collapsed": false
   },
   "outputs": [],
   "source": [
    "s.static"
   ]
  },
  {
   "cell_type": "code",
   "execution_count": null,
   "metadata": {
    "collapsed": false
   },
   "outputs": [],
   "source": [
    "s.about"
   ]
  },
  {
   "cell_type": "code",
   "execution_count": null,
   "metadata": {
    "collapsed": false
   },
   "outputs": [],
   "source": [
    "sorted(s.summary.items)"
   ]
  },
  {
   "cell_type": "code",
   "execution_count": null,
   "metadata": {
    "collapsed": false
   },
   "outputs": [],
   "source": [
    "s.primary_panel.reindex_axis(sorted(s.summary.items), \n",
    "                                                   axis=0, #minor axis \n",
    "                                                   copy=False) #save memory"
   ]
  },
  {
   "cell_type": "code",
   "execution_count": null,
   "metadata": {
    "collapsed": false
   },
   "outputs": [],
   "source": [
    "s.results"
   ]
  }
 ],
 "metadata": {
  "kernelspec": {
   "display_name": "IPython (Python 2)",
   "name": "python2"
  },
  "language_info": {
   "codemirror_mode": {
    "name": "ipython",
    "version": 2
   },
   "file_extension": ".py",
   "mimetype": "text/x-python",
   "name": "python",
   "nbconvert_exporter": "python",
   "pygments_lexer": "ipython2",
   "version": "2.7.9"
  },
  "signature": "sha256:9d860888bdf5b3b63819f22a9dbb59a6aae3e8d029c8c8811549f069614215d9"
 },
 "nbformat": 4,
 "nbformat_minor": 0
}