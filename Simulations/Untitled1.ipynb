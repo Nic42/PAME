{
 "cells": [
  {
   "cell_type": "code",
   "execution_count": 1,
   "metadata": {
    "collapsed": true
   },
   "outputs": [],
   "source": [
    "import os"
   ]
  },
  {
   "cell_type": "code",
   "execution_count": 2,
   "metadata": {
    "collapsed": false
   },
   "outputs": [],
   "source": [
    "#%%capture\n",
    "#olddir = os.getcwd()\n",
    "#%cd /home/glue/Desktop/fibersim\n",
    "#%run setup.py develop\n",
    "#os.chdir(olddir)"
   ]
  },
  {
   "cell_type": "code",
   "execution_count": 3,
   "metadata": {
    "collapsed": false
   },
   "outputs": [
    {
     "name": "stdout",
     "output_type": "stream",
     "text": [
      "Populating the interactive namespace from numpy and matplotlib\n"
     ]
    },
    {
     "name": "stderr",
     "output_type": "stream",
     "text": [
      "/home/adam/Enthought/Canopy_32bit/User/lib/python2.7/site-packages/pytz/__init__.py:29: UserWarning: Module argparse was already imported from /home/adam/Canopy/appdata/canopy-1.4.0.1938.rh5-x86/lib/python2.7/argparse.pyc, but /home/adam/Enthought/Canopy_32bit/User/lib/python2.7/site-packages is being added to sys.path\n",
      "  from pkg_resources import resource_stream\n"
     ]
    }
   ],
   "source": [
    "%pylab inline\n",
    "from pame.simparser import LayerSimParser\n",
    "from pame.custompp import pprint as pp #<--- pretty-print with special array formatting"
   ]
  },
  {
   "cell_type": "code",
   "execution_count": 4,
   "metadata": {
    "collapsed": false
   },
   "outputs": [],
   "source": [
    "s = LayerSimParser.load_pickle('Layersim0.mpickle')"
   ]
  },
  {
   "cell_type": "code",
   "execution_count": 5,
   "metadata": {
    "collapsed": false
   },
   "outputs": [
    {
     "data": {
      "text/plain": [
       "<pame.simparser.LayerSimParser at 0x99d3bfc>"
      ]
     },
     "execution_count": 5,
     "metadata": {},
     "output_type": "execute_result"
    }
   ],
   "source": [
    "s"
   ]
  },
  {
   "cell_type": "code",
   "execution_count": 6,
   "metadata": {
    "collapsed": false
   },
   "outputs": [
    {
     "data": {
      "text/plain": [
       "{'selected_layer.d': array([  50.,  100.]),\n",
       " 'selected_material.Vfrac': array([ 0. ,  0.1]),\n",
       " 'selected_material.r_core': array([ 25.,  50.])}"
      ]
     },
     "execution_count": 6,
     "metadata": {},
     "output_type": "execute_result"
    }
   ],
   "source": [
    "from traitsui.api import ValueEditor\n",
    "\n",
    "s.inputs"
   ]
  },
  {
   "cell_type": "code",
   "execution_count": 7,
   "metadata": {
    "collapsed": true
   },
   "outputs": [],
   "source": [
    "s.backend = 'skspec'"
   ]
  },
  {
   "cell_type": "code",
   "execution_count": 8,
   "metadata": {
    "collapsed": false
   },
   "outputs": [
    {
     "name": "stdout",
     "output_type": "stream",
     "text": [
      "ndarray(complex128, length=5, start=(-1.66 +5.74j), end=(-16.49 +1.06j))\n"
     ]
    }
   ],
   "source": [
    "pp(s.results['step_0']['selected_layer']['material']['material1']['earray'])"
   ]
  },
  {
   "cell_type": "code",
   "execution_count": 9,
   "metadata": {
    "collapsed": false
   },
   "outputs": [
    {
     "name": "stdout",
     "output_type": "stream",
     "text": [
      "{\n",
      "  \"step_1\": {\n",
      "    \"selected_layer\": {\n",
      "      \"layer_deisgnator\": \"nanoparticle\", \n",
      "      \"material\": {\n",
      "        \"material1\": {\n",
      "          \"earray\": {\n",
      "            \"dtype\": \"complex128\", \n",
      "            \"shape\": [\n",
      "              5\n",
      "            ], \n",
      "            \"__ndarray__\": \"rGiRIlWH+r8E2kfHBvEWQAnj3g78vfy/hV5HiEvEEkDjJhG/erkXwI+9F1C7xgBAGXATvIxqJsAQjxxb/Bf1P0lB4BZmfDDA65Z4m5IH8T8=\"\n",
      "          }, \n",
      "          \"name\": \"\", \n",
      "          \"narray\": {\n",
      "            \"dtype\": \"complex128\", \n",
      "            \"shape\": [\n",
      "              5\n",
      "            ], \n",
      "            \"__ndarray__\": \"HodCEWx+9z/ggb8kaT//PyCIg+lBU/Q/jp7ozN+L/T//h1npQiXbP881qorCxgNA01wbycooyT8gxQuWNNQKQPhT46WbxMA/5BQdyeU/EEA=\"\n",
      "          }\n",
      "        }, \n",
      "        \"mie_composite\": {\n",
      "          \"absorbance\": {\n",
      "            \"dtype\": \"float64\", \n",
      "            \"shape\": [\n",
      "              5\n",
      "            ], \n",
      "            \"__ndarray__\": \"Vg58G9SyzkDunkyxrbDQQF3Xhe52otRAfLT9SL55tUBww3DrVReVQA==\"\n",
      "          }, \n",
      "          \"extinction\": {\n",
      "            \"dtype\": \"float64\", \n",
      "            \"shape\": [\n",
      "              5\n",
      "            ], \n",
      "            \"__ndarray__\": \"ZItmU6dk2EDzH26SE9bXQGlc5DgANuhAkzNFhhjr2kCg3opcfKvDQA==\"\n",
      "          }, \n",
      "          \"scattering\": {\n",
      "            \"dtype\": \"float64\", \n",
      "            \"shape\": [\n",
      "              5\n",
      "            ], \n",
      "            \"__ndarray__\": \"cghRi3oWwkAVBIaEl5W8QHXhQoOJydtAdMYF9KiM1UAyxhyfkQjBQA==\"\n",
      "          }, \n",
      "          \"r_core\": 52.0\n",
      "        }, \n",
      "        \"material_medium\": {\n",
      "          \"earray\": {\n",
      "            \"dtype\": \"complex128\", \n",
      "            \"shape\": [\n",
      "              5\n",
      "            ], \n",
      "            \"__ndarray__\": \"rGiRIlWH+r8E2kfHBvEWQAnj3g78vfy/hV5HiEvEEkDjJhG/erkXwI+9F1C7xgBAGXATvIxqJsAQjxxb/Bf1P0lB4BZmfDDA65Z4m5IH8T8=\"\n",
      "          }, \n",
      "          \"name\": \"\", \n",
      "          \"narray\": {\n",
      "            \"dtype\": \"complex128\", \n",
      "            \"shape\": [\n",
      "              5\n",
      "            ], \n",
      "            \"__ndarray__\": \"HodCEWx+9z/ggb8kaT//PyCIg+lBU/Q/jp7ozN+L/T//h1npQiXbP881qorCxgNA01wbycooyT8gxQuWNNQKQPhT46WbxMA/5BQdyeU/EEA=\"\n",
      "          }\n",
      "        }, \n",
      "        \"r_core\": 50.0, \n",
      "        \"r_plastform\": 31250.0, \n",
      "        \"platform\": \"Disk\", \n",
      "        \"material_core\": {\n",
      "          \"earray\": {\n",
      "            \"dtype\": \"complex128\", \n",
      "            \"shape\": [\n",
      "              5\n",
      "            ], \n",
      "            \"__ndarray__\": \"rGiRIlWH+r8E2kfHBvEWQAnj3g78vfy/hV5HiEvEEkDjJhG/erkXwI+9F1C7xgBAGXATvIxqJsAQjxxb/Bf1P0lB4BZmfDDA65Z4m5IH8T8=\"\n",
      "          }, \n",
      "          \"name\": \"\", \n",
      "          \"narray\": {\n",
      "            \"dtype\": \"complex128\", \n",
      "            \"shape\": [\n",
      "              5\n",
      "            ], \n",
      "            \"__ndarray__\": \"HodCEWx+9z/ggb8kaT//PyCIg+lBU/Q/jp7ozN+L/T//h1npQiXbP881qorCxgNA01wbycooyT8gxQuWNNQKQPhT46WbxMA/5BQdyeU/EEA=\"\n",
      "          }\n",
      "        }, \n",
      "        \"mie_full\": {\n",
      "          \"absorbance\": {\n",
      "            \"dtype\": \"float64\", \n",
      "            \"shape\": [\n",
      "              5\n",
      "            ], \n",
      "            \"__ndarray__\": \"Hp9W2QRxzUADOOynw03QQOrm4fZYXtRAANru1xqEtkAwpeg4foiUQA==\"\n",
      "          }, \n",
      "          \"shell_width\": 2.0, \n",
      "          \"extinction\": {\n",
      "            \"dtype\": \"float64\", \n",
      "            \"shape\": [\n",
      "              5\n",
      "            ], \n",
      "            \"__ndarray__\": \"n20ECMPt10AIWv1iRZHXQIMbj7SpRuhABjJGcAky3UCNsTYSSdjEQA==\"\n",
      "          }, \n",
      "          \"scattering\": {\n",
      "            \"dtype\": \"float64\", \n",
      "            \"shape\": [\n",
      "              5\n",
      "            ], \n",
      "            \"__ndarray__\": \"IDyyNoFqwkAViETsBg69QBxQPHL6LtxAhntKugKR10DnnBlLOUfCQA==\"\n",
      "          }, \n",
      "          \"r_core\": 50.0\n",
      "        }, \n",
      "        \"name\": \"Composite NP:   IN Dispersive Water\", \n",
      "        \"material2\": {\n",
      "          \"earray\": {\n",
      "            \"dtype\": \"complex128\", \n",
      "            \"shape\": [\n",
      "              5\n",
      "            ], \n",
      "            \"__ndarray__\": \"rbDg17Tc/D8AAAAAAAAAALaKPJkoovw/AAAAAAAAAAAc036EJXz8PwAAAAAAAAAAPBTL5UBi/D8AAAAAAAAAAC9Mv6fjT/w/AAAAAAAAAAA=\"\n",
      "          }, \n",
      "          \"name\": \"Dispersive Water\", \n",
      "          \"narray\": {\n",
      "            \"dtype\": \"complex128\", \n",
      "            \"shape\": [\n",
      "              5\n",
      "            ], \n",
      "            \"__ndarray__\": \"+IiYEkl99T8AAAAAAAAAAO83sjNyZ/U/AAAAAAAAAADWQrRhOFn1PwAAAAAAAAAApJtGNYJP9T8AAAAAAAAAABCIUj6cSPU/AAAAAAAAAAA=\"\n",
      "          }\n",
      "        }, \n",
      "        \"mix\": {\n",
      "          \"name\": \"Composite Material with Spherical Inclusions\", \n",
      "          \"r_plastform\": 31250.0, \n",
      "          \"material1\": {\n",
      "            \"name\": \"  IN   Composite Material with Spherical Inclusions\", \n",
      "            \"earray\": {\n",
      "              \"dtype\": \"complex128\", \n",
      "              \"shape\": [\n",
      "                5\n",
      "              ], \n",
      "              \"__ndarray__\": \"q4nOlifr6L9DIM6v1D8XQD64ycwycvK/WsXibGk9E0CO0n9ZJfMYwLLgYBn3BwVASgWf7HfYK8BRccUYx30BQLxWwSIHQDjA7uv5vAaNA0A=\"\n",
      "            }, \n",
      "            \"material1\": {\n",
      "              \"earray\": {\n",
      "                \"dtype\": \"complex128\", \n",
      "                \"shape\": [\n",
      "                  5\n",
      "                ], \n",
      "                \"__ndarray__\": \"rGiRIlWH+r8E2kfHBvEWQAnj3g78vfy/hV5HiEvEEkDjJhG/erkXwI+9F1C7xgBAGXATvIxqJsAQjxxb/Bf1P0lB4BZmfDDA65Z4m5IH8T8=\"\n",
      "              }, \n",
      "              \"name\": \"\", \n",
      "              \"narray\": {\n",
      "                \"dtype\": \"complex128\", \n",
      "                \"shape\": [\n",
      "                  5\n",
      "                ], \n",
      "                \"__ndarray__\": \"HodCEWx+9z/ggb8kaT//PyCIg+lBU/Q/jp7ozN+L/T//h1npQiXbP881qorCxgNA01wbycooyT8gxQuWNNQKQPhT46WbxMA/5BQdyeU/EEA=\"\n",
      "              }\n",
      "            }, \n",
      "            \"material2\": {\n",
      "              \"name\": \"Composite Material with Spherical Inclusions\", \n",
      "              \"r_plastform\": 50.0, \n",
      "              \"material1\": {\n",
      "                \"earray\": {\n",
      "                  \"dtype\": \"complex128\", \n",
      "                  \"shape\": [\n",
      "                    5\n",
      "                  ], \n",
      "                  \"__ndarray__\": \"9Hak7jhKAUAAAAAAAAAAACfYU89iJAFAAAAAAAAAAABXoxLh+wwBQAAAAAAAAAAAitM5LhP9AEAAAAAAAAAAAFiBsg5p8QBAAAAAAAAAAAA=\"\n",
      "                }, \n",
      "                \"name\": \"Sellmeir\", \n",
      "                \"narray\": {\n",
      "                  \"dtype\": \"complex128\", \n",
      "                  \"shape\": [\n",
      "                    5\n",
      "                  ], \n",
      "                  \"__ndarray__\": \"yY+oepiF9z8AAAAAAAAAANgS6qjNa/c/AAAAAAAAAAAoUoeEy1v3PwAAAAAAAAAAD3ACSONQ9z8AAAAAAAAAABdjy8DgSPc/AAAAAAAAAAA=\"\n",
      "                }\n",
      "              }, \n",
      "              \"earray\": {\n",
      "                \"dtype\": \"complex128\", \n",
      "                \"shape\": [\n",
      "                  5\n",
      "                ], \n",
      "                \"__ndarray__\": \"j0RUBhYp/T8AAAAAAAAAAKmXG0FE7vw/AAAAAAAAAAAkdxsTMcj8PwAAAAAAAAAA3zDvNUKu/D8AAAAAAAAAAP2aed/Tm/w/AAAAAAAAAAA=\"\n",
      "              }, \n",
      "              \"platform\": \"Shell Platform\", \n",
      "              \"material2\": {\n",
      "                \"earray\": {\n",
      "                  \"dtype\": \"complex128\", \n",
      "                  \"shape\": [\n",
      "                    5\n",
      "                  ], \n",
      "                  \"__ndarray__\": \"rbDg17Tc/D8AAAAAAAAAALaKPJkoovw/AAAAAAAAAAAc036EJXz8PwAAAAAAAAAAPBTL5UBi/D8AAAAAAAAAAC9Mv6fjT/w/AAAAAAAAAAA=\"\n",
      "                }, \n",
      "                \"name\": \"Dispersive Water\", \n",
      "                \"narray\": {\n",
      "                  \"dtype\": \"complex128\", \n",
      "                  \"shape\": [\n",
      "                    5\n",
      "                  ], \n",
      "                  \"__ndarray__\": \"+IiYEkl99T8AAAAAAAAAAO83sjNyZ/U/AAAAAAAAAADWQrRhOFn1PwAAAAAAAAAApJtGNYJP9T8AAAAAAAAAABCIUj6cSPU/AAAAAAAAAAA=\"\n",
      "                }\n",
      "              }, \n",
      "              \"coverage\": 19.0896, \n",
      "              \"Vfrac\": 0.1, \n",
      "              \"mixing_style\": \"MGMOD\", \n",
      "              \"r_particle\": 1.0, \n",
      "              \"narray\": {\n",
      "                \"dtype\": \"complex128\", \n",
      "                \"shape\": [\n",
      "                  5\n",
      "                ], \n",
      "                \"__ndarray__\": \"YsfCjKWZ9T8AAAAAAAAAADT9rp3Rg/U/AAAAAAAAAAAUKlqapHX1PwAAAAAAAAAApehCffdr9T8AAAAAAAAAAIMH2k4UZfU/AAAAAAAAAAA=\"\n",
      "              }\n",
      "            }, \n",
      "            \"Vfrac\": 0.1, \n",
      "            \"mixing_style\": \"Custom Equiv\", \n",
      "            \"narray\": {\n",
      "              \"dtype\": \"complex128\", \n",
      "              \"shape\": [\n",
      "                5\n",
      "              ], \n",
      "              \"__ndarray__\": \"35rzjYWD+T/0fSXf7yj9PyGIp6b8CPY/WfSiWtLw+z8MSyx3g37gP0kjLhWnZgRANuAtiY+x0j8TVdjUIfENQMBFF9KjuM8/OuOwCQK5E0A=\"\n",
      "            }\n",
      "          }, \n",
      "          \"earray\": {\n",
      "            \"dtype\": \"complex128\", \n",
      "            \"shape\": [\n",
      "              5\n",
      "            ], \n",
      "            \"__ndarray__\": \"HeP5B8HY/z+s4ITDY/3OP3huWW5oIf8/+MONtI0j0j/x2406j4EDQLt78769Qdg/WCV6KeMYAkB2IpwqMPOiP423xfFEZAFAyfGff9s5hT8=\"\n",
      "          }, \n",
      "          \"platform\": \"Disk\", \n",
      "          \"material2\": {\n",
      "            \"earray\": {\n",
      "              \"dtype\": \"complex128\", \n",
      "              \"shape\": [\n",
      "                5\n",
      "              ], \n",
      "              \"__ndarray__\": \"rbDg17Tc/D8AAAAAAAAAALaKPJkoovw/AAAAAAAAAAAc036EJXz8PwAAAAAAAAAAPBTL5UBi/D8AAAAAAAAAAC9Mv6fjT/w/AAAAAAAAAAA=\"\n",
      "            }, \n",
      "            \"name\": \"Dispersive Water\", \n",
      "            \"narray\": {\n",
      "              \"dtype\": \"complex128\", \n",
      "              \"shape\": [\n",
      "                5\n",
      "              ], \n",
      "              \"__ndarray__\": \"+IiYEkl99T8AAAAAAAAAAO83sjNyZ/U/AAAAAAAAAADWQrRhOFn1PwAAAAAAAAAApJtGNYJP9T8AAAAAAAAAABCIUj6cSPU/AAAAAAAAAAA=\"\n",
      "            }\n",
      "          }, \n",
      "          \"coverage\": 19.0984, \n",
      "          \"Vfrac\": 0.10000000000000001, \n",
      "          \"mixing_style\": \"MGMOD\", \n",
      "          \"r_particle\": 50.0, \n",
      "          \"narray\": {\n",
      "            \"dtype\": \"complex128\", \n",
      "            \"shape\": [\n",
      "              5\n",
      "            ], \n",
      "            \"__ndarray__\": \"F2ZUaV2d9j8RzvwU6Oy1P9Q8/PBuYPY/TPDBsY7wuT9iSa3qDA/5P3aiHBnS+b4/FqRHfcYQ+D9Yx5RmozKJP8lmPOxNl/c/dgMEL77KbD8=\"\n",
      "          }\n",
      "        }, \n",
      "        \"earray\": {\n",
      "          \"dtype\": \"complex128\", \n",
      "          \"shape\": [\n",
      "            5\n",
      "          ], \n",
      "          \"__ndarray__\": \"HeP5B8HY/z+s4ITDY/3OP3huWW5oIf8/+MONtI0j0j/x2406j4EDQLt78769Qdg/WCV6KeMYAkB2IpwqMPOiP423xfFEZAFAyfGff9s5hT8=\"\n",
      "        }, \n",
      "        \"material_shell\": {\n",
      "          \"name\": \"Composite Material with Spherical Inclusions\", \n",
      "          \"r_plastform\": 50.0, \n",
      "          \"material1\": {\n",
      "            \"earray\": {\n",
      "              \"dtype\": \"complex128\", \n",
      "              \"shape\": [\n",
      "                5\n",
      "              ], \n",
      "              \"__ndarray__\": \"9Hak7jhKAUAAAAAAAAAAACfYU89iJAFAAAAAAAAAAABXoxLh+wwBQAAAAAAAAAAAitM5LhP9AEAAAAAAAAAAAFiBsg5p8QBAAAAAAAAAAAA=\"\n",
      "            }, \n",
      "            \"name\": \"Sellmeir\", \n",
      "            \"narray\": {\n",
      "              \"dtype\": \"complex128\", \n",
      "              \"shape\": [\n",
      "                5\n",
      "              ], \n",
      "              \"__ndarray__\": \"yY+oepiF9z8AAAAAAAAAANgS6qjNa/c/AAAAAAAAAAAoUoeEy1v3PwAAAAAAAAAAD3ACSONQ9z8AAAAAAAAAABdjy8DgSPc/AAAAAAAAAAA=\"\n",
      "            }\n",
      "          }, \n",
      "          \"earray\": {\n",
      "            \"dtype\": \"complex128\", \n",
      "            \"shape\": [\n",
      "              5\n",
      "            ], \n",
      "            \"__ndarray__\": \"j0RUBhYp/T8AAAAAAAAAAKmXG0FE7vw/AAAAAAAAAAAkdxsTMcj8PwAAAAAAAAAA3zDvNUKu/D8AAAAAAAAAAP2aed/Tm/w/AAAAAAAAAAA=\"\n",
      "          }, \n",
      "          \"platform\": \"Shell Platform\", \n",
      "          \"material2\": {\n",
      "            \"earray\": {\n",
      "              \"dtype\": \"complex128\", \n",
      "              \"shape\": [\n",
      "                5\n",
      "              ], \n",
      "              \"__ndarray__\": \"rbDg17Tc/D8AAAAAAAAAALaKPJkoovw/AAAAAAAAAAAc036EJXz8PwAAAAAAAAAAPBTL5UBi/D8AAAAAAAAAAC9Mv6fjT/w/AAAAAAAAAAA=\"\n",
      "            }, \n",
      "            \"name\": \"Dispersive Water\", \n",
      "            \"narray\": {\n",
      "              \"dtype\": \"complex128\", \n",
      "              \"shape\": [\n",
      "                5\n",
      "              ], \n",
      "              \"__ndarray__\": \"+IiYEkl99T8AAAAAAAAAAO83sjNyZ/U/AAAAAAAAAADWQrRhOFn1PwAAAAAAAAAApJtGNYJP9T8AAAAAAAAAABCIUj6cSPU/AAAAAAAAAAA=\"\n",
      "            }\n",
      "          }, \n",
      "          \"coverage\": 19.0896, \n",
      "          \"Vfrac\": 0.1, \n",
      "          \"mixing_style\": \"MGMOD\", \n",
      "          \"r_particle\": 1.0, \n",
      "          \"narray\": {\n",
      "            \"dtype\": \"complex128\", \n",
      "            \"shape\": [\n",
      "              5\n",
      "            ], \n",
      "            \"__ndarray__\": \"YsfCjKWZ9T8AAAAAAAAAADT9rp3Rg/U/AAAAAAAAAAAUKlqapHX1PwAAAAAAAAAApehCffdr9T8AAAAAAAAAAIMH2k4UZfU/AAAAAAAAAAA=\"\n",
      "          }\n",
      "        }, \n",
      "        \"coverage\": 19.0988, \n",
      "        \"Vfrac\": 0.10000000000000001, \n",
      "        \"shell_thickness\": 2.0, \n",
      "        \"mixing_style\": \"MGMOD\", \n",
      "        \"r_particle\": 2.0, \n",
      "        \"narray\": {\n",
      "          \"dtype\": \"complex128\", \n",
      "          \"shape\": [\n",
      "            5\n",
      "          ], \n",
      "          \"__ndarray__\": \"F2ZUaV2d9j8RzvwU6Oy1P9Q8/PBuYPY/TPDBsY7wuT9iSa3qDA/5P3aiHBnS+b4/FqRHfcYQ+D9Yx5RmozKJP8lmPOxNl/c/dgMEL77KbD8=\"\n",
      "        }\n",
      "      }, \n",
      "      \"layer_name\": \"Nanosphere with Shell\", \n",
      "      \"layer_thickness\": 100.0\n",
      "    }\n",
      "  }, \n",
      "  \"step_0\": {\n",
      "    \"selected_layer\": {\n",
      "      \"layer_deisgnator\": \"nanoparticle\", \n",
      "      \"material\": {\n",
      "        \"material1\": {\n",
      "          \"earray\": {\n",
      "            \"dtype\": \"complex128\", \n",
      "            \"shape\": [\n",
      "              5\n",
      "            ], \n",
      "            \"__ndarray__\": \"rGiRIlWH+r8E2kfHBvEWQAnj3g78vfy/hV5HiEvEEkDjJhG/erkXwI+9F1C7xgBAGXATvIxqJsAQjxxb/Bf1P0lB4BZmfDDA65Z4m5IH8T8=\"\n",
      "          }, \n",
      "          \"name\": \"\", \n",
      "          \"narray\": {\n",
      "            \"dtype\": \"complex128\", \n",
      "            \"shape\": [\n",
      "              5\n",
      "            ], \n",
      "            \"__ndarray__\": \"HodCEWx+9z/ggb8kaT//PyCIg+lBU/Q/jp7ozN+L/T//h1npQiXbP881qorCxgNA01wbycooyT8gxQuWNNQKQPhT46WbxMA/5BQdyeU/EEA=\"\n",
      "          }\n",
      "        }, \n",
      "        \"mie_composite\": {\n",
      "          \"absorbance\": {\n",
      "            \"dtype\": \"float64\", \n",
      "            \"shape\": [\n",
      "              5\n",
      "            ], \n",
      "            \"__ndarray__\": \"Vg58G9SyzkDunkyxrbDQQF3Xhe52otRAfLT9SL55tUBww3DrVReVQA==\"\n",
      "          }, \n",
      "          \"extinction\": {\n",
      "            \"dtype\": \"float64\", \n",
      "            \"shape\": [\n",
      "              5\n",
      "            ], \n",
      "            \"__ndarray__\": \"ZItmU6dk2EDzH26SE9bXQGlc5DgANuhAkzNFhhjr2kCg3opcfKvDQA==\"\n",
      "          }, \n",
      "          \"scattering\": {\n",
      "            \"dtype\": \"float64\", \n",
      "            \"shape\": [\n",
      "              5\n",
      "            ], \n",
      "            \"__ndarray__\": \"cghRi3oWwkAVBIaEl5W8QHXhQoOJydtAdMYF9KiM1UAyxhyfkQjBQA==\"\n",
      "          }, \n",
      "          \"r_core\": 27.0\n",
      "        }, \n",
      "        \"material_medium\": {\n",
      "          \"earray\": {\n",
      "            \"dtype\": \"complex128\", \n",
      "            \"shape\": [\n",
      "              5\n",
      "            ], \n",
      "            \"__ndarray__\": \"rGiRIlWH+r8E2kfHBvEWQAnj3g78vfy/hV5HiEvEEkDjJhG/erkXwI+9F1C7xgBAGXATvIxqJsAQjxxb/Bf1P0lB4BZmfDDA65Z4m5IH8T8=\"\n",
      "          }, \n",
      "          \"name\": \"\", \n",
      "          \"narray\": {\n",
      "            \"dtype\": \"complex128\", \n",
      "            \"shape\": [\n",
      "              5\n",
      "            ], \n",
      "            \"__ndarray__\": \"HodCEWx+9z/ggb8kaT//PyCIg+lBU/Q/jp7ozN+L/T//h1npQiXbP881qorCxgNA01wbycooyT8gxQuWNNQKQPhT46WbxMA/5BQdyeU/EEA=\"\n",
      "          }\n",
      "        }, \n",
      "        \"r_core\": 25.0, \n",
      "        \"r_plastform\": 31250.0, \n",
      "        \"platform\": \"Disk\", \n",
      "        \"material_core\": {\n",
      "          \"earray\": {\n",
      "            \"dtype\": \"complex128\", \n",
      "            \"shape\": [\n",
      "              5\n",
      "            ], \n",
      "            \"__ndarray__\": \"rGiRIlWH+r8E2kfHBvEWQAnj3g78vfy/hV5HiEvEEkDjJhG/erkXwI+9F1C7xgBAGXATvIxqJsAQjxxb/Bf1P0lB4BZmfDDA65Z4m5IH8T8=\"\n",
      "          }, \n",
      "          \"name\": \"\", \n",
      "          \"narray\": {\n",
      "            \"dtype\": \"complex128\", \n",
      "            \"shape\": [\n",
      "              5\n",
      "            ], \n",
      "            \"__ndarray__\": \"HodCEWx+9z/ggb8kaT//PyCIg+lBU/Q/jp7ozN+L/T//h1npQiXbP881qorCxgNA01wbycooyT8gxQuWNNQKQPhT46WbxMA/5BQdyeU/EEA=\"\n",
      "          }\n",
      "        }, \n",
      "        \"mie_full\": {\n",
      "          \"absorbance\": {\n",
      "            \"dtype\": \"float64\", \n",
      "            \"shape\": [\n",
      "              5\n",
      "            ], \n",
      "            \"__ndarray__\": \"Hp9W2QRxzUADOOynw03QQOrm4fZYXtRAANru1xqEtkAwpeg4foiUQA==\"\n",
      "          }, \n",
      "          \"shell_width\": 2.0, \n",
      "          \"extinction\": {\n",
      "            \"dtype\": \"float64\", \n",
      "            \"shape\": [\n",
      "              5\n",
      "            ], \n",
      "            \"__ndarray__\": \"n20ECMPt10AIWv1iRZHXQIMbj7SpRuhABjJGcAky3UCNsTYSSdjEQA==\"\n",
      "          }, \n",
      "          \"scattering\": {\n",
      "            \"dtype\": \"float64\", \n",
      "            \"shape\": [\n",
      "              5\n",
      "            ], \n",
      "            \"__ndarray__\": \"IDyyNoFqwkAViETsBg69QBxQPHL6LtxAhntKugKR10DnnBlLOUfCQA==\"\n",
      "          }, \n",
      "          \"r_core\": 25.0\n",
      "        }, \n",
      "        \"name\": \"Composite NP:   IN Dispersive Water\", \n",
      "        \"material2\": {\n",
      "          \"earray\": {\n",
      "            \"dtype\": \"complex128\", \n",
      "            \"shape\": [\n",
      "              5\n",
      "            ], \n",
      "            \"__ndarray__\": \"rbDg17Tc/D8AAAAAAAAAALaKPJkoovw/AAAAAAAAAAAc036EJXz8PwAAAAAAAAAAPBTL5UBi/D8AAAAAAAAAAC9Mv6fjT/w/AAAAAAAAAAA=\"\n",
      "          }, \n",
      "          \"name\": \"Dispersive Water\", \n",
      "          \"narray\": {\n",
      "            \"dtype\": \"complex128\", \n",
      "            \"shape\": [\n",
      "              5\n",
      "            ], \n",
      "            \"__ndarray__\": \"+IiYEkl99T8AAAAAAAAAAO83sjNyZ/U/AAAAAAAAAADWQrRhOFn1PwAAAAAAAAAApJtGNYJP9T8AAAAAAAAAABCIUj6cSPU/AAAAAAAAAAA=\"\n",
      "          }\n",
      "        }, \n",
      "        \"mix\": {\n",
      "          \"name\": \"Composite Material with Spherical Inclusions\", \n",
      "          \"r_plastform\": 31250.0, \n",
      "          \"material1\": {\n",
      "            \"name\": \"  IN   Composite Material with Spherical Inclusions\", \n",
      "            \"earray\": {\n",
      "              \"dtype\": \"complex128\", \n",
      "              \"shape\": [\n",
      "                5\n",
      "              ], \n",
      "              \"__ndarray__\": \"NMLrwenGrD+SEODOxLgWQKH3iSRNh+C/xvdcFRYvE0Cj8eDzgiEawIiSMaTYeQpAOkQcOjxeMsB+49YE43gQQCHK/brK1EbACntK9le4IkA=\"\n",
      "            }, \n",
      "            \"material1\": {\n",
      "              \"earray\": {\n",
      "                \"dtype\": \"complex128\", \n",
      "                \"shape\": [\n",
      "                  5\n",
      "                ], \n",
      "                \"__ndarray__\": \"rGiRIlWH+r8E2kfHBvEWQAnj3g78vfy/hV5HiEvEEkDjJhG/erkXwI+9F1C7xgBAGXATvIxqJsAQjxxb/Bf1P0lB4BZmfDDA65Z4m5IH8T8=\"\n",
      "              }, \n",
      "              \"name\": \"\", \n",
      "              \"narray\": {\n",
      "                \"dtype\": \"complex128\", \n",
      "                \"shape\": [\n",
      "                  5\n",
      "                ], \n",
      "                \"__ndarray__\": \"HodCEWx+9z/ggb8kaT//PyCIg+lBU/Q/jp7ozN+L/T//h1npQiXbP881qorCxgNA01wbycooyT8gxQuWNNQKQPhT46WbxMA/5BQdyeU/EEA=\"\n",
      "              }\n",
      "            }, \n",
      "            \"material2\": {\n",
      "              \"name\": \"Composite Material with Spherical Inclusions\", \n",
      "              \"r_plastform\": 25.0, \n",
      "              \"material1\": {\n",
      "                \"earray\": {\n",
      "                  \"dtype\": \"complex128\", \n",
      "                  \"shape\": [\n",
      "                    5\n",
      "                  ], \n",
      "                  \"__ndarray__\": \"9Hak7jhKAUAAAAAAAAAAACfYU89iJAFAAAAAAAAAAABXoxLh+wwBQAAAAAAAAAAAitM5LhP9AEAAAAAAAAAAAFiBsg5p8QBAAAAAAAAAAAA=\"\n",
      "                }, \n",
      "                \"name\": \"Sellmeir\", \n",
      "                \"narray\": {\n",
      "                  \"dtype\": \"complex128\", \n",
      "                  \"shape\": [\n",
      "                    5\n",
      "                  ], \n",
      "                  \"__ndarray__\": \"yY+oepiF9z8AAAAAAAAAANgS6qjNa/c/AAAAAAAAAAAoUoeEy1v3PwAAAAAAAAAAD3ACSONQ9z8AAAAAAAAAABdjy8DgSPc/AAAAAAAAAAA=\"\n",
      "                }\n",
      "              }, \n",
      "              \"earray\": {\n",
      "                \"dtype\": \"complex128\", \n",
      "                \"shape\": [\n",
      "                  5\n",
      "                ], \n",
      "                \"__ndarray__\": \"j0RUBhYp/T8AAAAAAAAAAKmXG0FE7vw/AAAAAAAAAAAkdxsTMcj8PwAAAAAAAAAA3zDvNUKu/D8AAAAAAAAAAP2aed/Tm/w/AAAAAAAAAAA=\"\n",
      "              }, \n",
      "              \"platform\": \"Shell Platform\", \n",
      "              \"material2\": {\n",
      "                \"earray\": {\n",
      "                  \"dtype\": \"complex128\", \n",
      "                  \"shape\": [\n",
      "                    5\n",
      "                  ], \n",
      "                  \"__ndarray__\": \"rbDg17Tc/D8AAAAAAAAAALaKPJkoovw/AAAAAAAAAAAc036EJXz8PwAAAAAAAAAAPBTL5UBi/D8AAAAAAAAAAC9Mv6fjT/w/AAAAAAAAAAA=\"\n",
      "                }, \n",
      "                \"name\": \"Dispersive Water\", \n",
      "                \"narray\": {\n",
      "                  \"dtype\": \"complex128\", \n",
      "                  \"shape\": [\n",
      "                    5\n",
      "                  ], \n",
      "                  \"__ndarray__\": \"+IiYEkl99T8AAAAAAAAAAO83sjNyZ/U/AAAAAAAAAADWQrRhOFn1PwAAAAAAAAAApJtGNYJP9T8AAAAAAAAAABCIUj6cSPU/AAAAAAAAAAA=\"\n",
      "                }\n",
      "              }, \n",
      "              \"coverage\": 19.0678, \n",
      "              \"Vfrac\": 0.1, \n",
      "              \"mixing_style\": \"MGMOD\", \n",
      "              \"r_particle\": 1.0, \n",
      "              \"narray\": {\n",
      "                \"dtype\": \"complex128\", \n",
      "                \"shape\": [\n",
      "                  5\n",
      "                ], \n",
      "                \"__ndarray__\": \"YsfCjKWZ9T8AAAAAAAAAADT9rp3Rg/U/AAAAAAAAAAAUKlqapHX1PwAAAAAAAAAApehCffdr9T8AAAAAAAAAAIMH2k4UZfU/AAAAAAAAAAA=\"\n",
      "              }\n",
      "            }, \n",
      "            \"Vfrac\": 0.1, \n",
      "            \"mixing_style\": \"Custom Equiv\", \n",
      "            \"narray\": {\n",
      "              \"dtype\": \"complex128\", \n",
      "              \"shape\": [\n",
      "                5\n",
      "              ], \n",
      "              \"__ndarray__\": \"5RGY9DMZ+z9S0F0C59T6PxzaAurwevc/A5kAnRAl+j+5s3x6Ix7kPzt/ur2LDgVAlSz/yfWO3j+/xr9g0D8RQF0dvcNUDOY/TJV07HMrG0A=\"\n",
      "            }\n",
      "          }, \n",
      "          \"earray\": {\n",
      "            \"dtype\": \"complex128\", \n",
      "            \"shape\": [\n",
      "              5\n",
      "            ], \n",
      "            \"__ndarray__\": \"rbDg17Tc/D8AAAAAAAAAALaKPJkoovw/AAAAAAAAAAAc036EJXz8PwAAAAAAAAAAPBTL5UBi/D8AAAAAAAAAAC9Mv6fjT/w/AAAAAAAAAAA=\"\n",
      "          }, \n",
      "          \"platform\": \"Disk\", \n",
      "          \"material2\": {\n",
      "            \"earray\": {\n",
      "              \"dtype\": \"complex128\", \n",
      "              \"shape\": [\n",
      "                5\n",
      "              ], \n",
      "              \"__ndarray__\": \"rbDg17Tc/D8AAAAAAAAAALaKPJkoovw/AAAAAAAAAAAc036EJXz8PwAAAAAAAAAAPBTL5UBi/D8AAAAAAAAAAC9Mv6fjT/w/AAAAAAAAAAA=\"\n",
      "            }, \n",
      "            \"name\": \"Dispersive Water\", \n",
      "            \"narray\": {\n",
      "              \"dtype\": \"complex128\", \n",
      "              \"shape\": [\n",
      "                5\n",
      "              ], \n",
      "              \"__ndarray__\": \"+IiYEkl99T8AAAAAAAAAAO83sjNyZ/U/AAAAAAAAAADWQrRhOFn1PwAAAAAAAAAApJtGNYJP9T8AAAAAAAAAABCIUj6cSPU/AAAAAAAAAAA=\"\n",
      "            }\n",
      "          }, \n",
      "          \"coverage\": 0.0, \n",
      "          \"Vfrac\": 0.0, \n",
      "          \"mixing_style\": \"MGMOD\", \n",
      "          \"r_particle\": 25.0, \n",
      "          \"narray\": {\n",
      "            \"dtype\": \"complex128\", \n",
      "            \"shape\": [\n",
      "              5\n",
      "            ], \n",
      "            \"__ndarray__\": \"+IiYEkl99T8AAAAAAAAAAO83sjNyZ/U/AAAAAAAAAADWQrRhOFn1PwAAAAAAAAAApJtGNYJP9T8AAAAAAAAAABCIUj6cSPU/AAAAAAAAAAA=\"\n",
      "          }\n",
      "        }, \n",
      "        \"earray\": {\n",
      "          \"dtype\": \"complex128\", \n",
      "          \"shape\": [\n",
      "            5\n",
      "          ], \n",
      "          \"__ndarray__\": \"rbDg17Tc/D8AAAAAAAAAALaKPJkoovw/AAAAAAAAAAAc036EJXz8PwAAAAAAAAAAPBTL5UBi/D8AAAAAAAAAAC9Mv6fjT/w/AAAAAAAAAAA=\"\n",
      "        }, \n",
      "        \"material_shell\": {\n",
      "          \"name\": \"Composite Material with Spherical Inclusions\", \n",
      "          \"r_plastform\": 25.0, \n",
      "          \"material1\": {\n",
      "            \"earray\": {\n",
      "              \"dtype\": \"complex128\", \n",
      "              \"shape\": [\n",
      "                5\n",
      "              ], \n",
      "              \"__ndarray__\": \"9Hak7jhKAUAAAAAAAAAAACfYU89iJAFAAAAAAAAAAABXoxLh+wwBQAAAAAAAAAAAitM5LhP9AEAAAAAAAAAAAFiBsg5p8QBAAAAAAAAAAAA=\"\n",
      "            }, \n",
      "            \"name\": \"Sellmeir\", \n",
      "            \"narray\": {\n",
      "              \"dtype\": \"complex128\", \n",
      "              \"shape\": [\n",
      "                5\n",
      "              ], \n",
      "              \"__ndarray__\": \"yY+oepiF9z8AAAAAAAAAANgS6qjNa/c/AAAAAAAAAAAoUoeEy1v3PwAAAAAAAAAAD3ACSONQ9z8AAAAAAAAAABdjy8DgSPc/AAAAAAAAAAA=\"\n",
      "            }\n",
      "          }, \n",
      "          \"earray\": {\n",
      "            \"dtype\": \"complex128\", \n",
      "            \"shape\": [\n",
      "              5\n",
      "            ], \n",
      "            \"__ndarray__\": \"j0RUBhYp/T8AAAAAAAAAAKmXG0FE7vw/AAAAAAAAAAAkdxsTMcj8PwAAAAAAAAAA3zDvNUKu/D8AAAAAAAAAAP2aed/Tm/w/AAAAAAAAAAA=\"\n",
      "          }, \n",
      "          \"platform\": \"Shell Platform\", \n",
      "          \"material2\": {\n",
      "            \"earray\": {\n",
      "              \"dtype\": \"complex128\", \n",
      "              \"shape\": [\n",
      "                5\n",
      "              ], \n",
      "              \"__ndarray__\": \"rbDg17Tc/D8AAAAAAAAAALaKPJkoovw/AAAAAAAAAAAc036EJXz8PwAAAAAAAAAAPBTL5UBi/D8AAAAAAAAAAC9Mv6fjT/w/AAAAAAAAAAA=\"\n",
      "            }, \n",
      "            \"name\": \"Dispersive Water\", \n",
      "            \"narray\": {\n",
      "              \"dtype\": \"complex128\", \n",
      "              \"shape\": [\n",
      "                5\n",
      "              ], \n",
      "              \"__ndarray__\": \"+IiYEkl99T8AAAAAAAAAAO83sjNyZ/U/AAAAAAAAAADWQrRhOFn1PwAAAAAAAAAApJtGNYJP9T8AAAAAAAAAABCIUj6cSPU/AAAAAAAAAAA=\"\n",
      "            }\n",
      "          }, \n",
      "          \"coverage\": 19.0678, \n",
      "          \"Vfrac\": 0.1, \n",
      "          \"mixing_style\": \"MGMOD\", \n",
      "          \"r_particle\": 1.0, \n",
      "          \"narray\": {\n",
      "            \"dtype\": \"complex128\", \n",
      "            \"shape\": [\n",
      "              5\n",
      "            ], \n",
      "            \"__ndarray__\": \"YsfCjKWZ9T8AAAAAAAAAADT9rp3Rg/U/AAAAAAAAAAAUKlqapHX1PwAAAAAAAAAApehCffdr9T8AAAAAAAAAAIMH2k4UZfU/AAAAAAAAAAA=\"\n",
      "          }\n",
      "        }, \n",
      "        \"coverage\": 0.0, \n",
      "        \"Vfrac\": 0.0, \n",
      "        \"shell_thickness\": 2.0, \n",
      "        \"mixing_style\": \"MGMOD\", \n",
      "        \"r_particle\": 2.0, \n",
      "        \"narray\": {\n",
      "          \"dtype\": \"complex128\", \n",
      "          \"shape\": [\n",
      "            5\n",
      "          ], \n",
      "          \"__ndarray__\": \"+IiYEkl99T8AAAAAAAAAAO83sjNyZ/U/AAAAAAAAAADWQrRhOFn1PwAAAAAAAAAApJtGNYJP9T8AAAAAAAAAABCIUj6cSPU/AAAAAAAAAAA=\"\n",
      "        }\n",
      "      }, \n",
      "      \"layer_name\": \"Nanosphere with Shell\", \n",
      "      \"layer_thickness\": 50.0\n",
      "    }\n",
      "  }\n",
      "}\n"
     ]
    }
   ],
   "source": [
    "from pame.customjson import dumps\n",
    "print (dumps(s.results, indent=2))\n"
   ]
  },
  {
   "cell_type": "code",
   "execution_count": 10,
   "metadata": {
    "collapsed": false
   },
   "outputs": [
    {
     "data": {
      "text/plain": [
       "{'Notes': '<ADD NOTES ON SIMULATION>',\n",
       " 'Simulation Name': 'Layersim0',\n",
       " 'Steps': 2,\n",
       " 'Storage': OrderedDict([('Optical Quantities', ['R', 'T', 'A']), ('Angle Averaging', 'Average'), ('Copy Full Optical Stack', False), ('Layer Quantities', []), ('Deep Layer Storage', 'Selected Layer')]),\n",
       " 'Time/Date': '(not started)'}"
      ]
     },
     "execution_count": 10,
     "metadata": {},
     "output_type": "execute_result"
    }
   ],
   "source": [
    "s.about"
   ]
  },
  {
   "cell_type": "code",
   "execution_count": 11,
   "metadata": {
    "collapsed": false
   },
   "outputs": [
    {
     "data": {
      "text/plain": [
       "{'selected_layer.d': array([  50.,  100.]),\n",
       " 'selected_material.Vfrac': array([ 0. ,  0.1]),\n",
       " 'selected_material.r_core': array([ 25.,  50.])}"
      ]
     },
     "execution_count": 11,
     "metadata": {},
     "output_type": "execute_result"
    }
   ],
   "source": [
    "s.inputs"
   ]
  },
  {
   "cell_type": "code",
   "execution_count": 12,
   "metadata": {
    "collapsed": false
   },
   "outputs": [
    {
     "name": "stdout",
     "output_type": "stream",
     "text": [
      "Inputs:\n",
      "\tselected_material.r_core : <type 'numpy.ndarray'>(25.0 - 50.0)\n",
      "\tselected_material.Vfrac : <type 'numpy.ndarray'>(0.0 - 0.1)\n",
      "\tselected_layer.d : <type 'numpy.ndarray'>(50.0 - 100.0)\n",
      "\n",
      "Primary:\n",
      "\t<class 'pandas.core.panel.Panel'>\n",
      "\tDimensions: 3 (items) x 5 (major_axis) x 2 (minor_axis)\n",
      "\tItems axis: A_avg to T_avg\n",
      "\tMajor_axis axis: 400.0 to 700.0\n",
      "\tMinor_axis axis: step_0 to step_1\n",
      "\n",
      "About:\n",
      "\tSteps : 2\n",
      "\tNotes : <ADD NOTES ON SIMULATION>\n",
      "\tTime/Date : (not started)\n",
      "\tStorage:\n",
      "\t\tOptical Quantities : <type 'list'>(R - A)\n",
      "\t\tAngle Averaging : Average\n",
      "\t\tCopy Full Optical Stack : False\n",
      "\t\tLayer Quantities : []\n",
      "\t\tDeep Layer Storage : Selected Layer\n",
      "\n",
      "\tSimulation Name : Layersim0\n",
      "\n",
      "Static Parameters:\n",
      "\tSpectral Parms.:\n",
      "\t\tx_increment : 60.0\n",
      "\t\txstart : 400.0\n",
      "\t\txend : 700.0\n",
      "\t\tx_samples : 5\n",
      "\t\tlambdas : <type 'numpy.ndarray'>(400.0 - 700.0)\n",
      "\tFiber:\n",
      "\t\tCore Diameter : 62.5\n",
      "\t\tStrip Region : N/A\n",
      "\t\tCritical Angle : 15.96\n",
      "\t\tOptical Configuration : Axial\n",
      "\t\tAngle Min : 0.5\n",
      "\t\tMode : S-polarized\n",
      "\t\tAngle Max : 15.96\n",
      "\t\tNumerical Aperature : 0.275\n",
      "\t\tAngle Inc. : 0.5\n"
     ]
    }
   ],
   "source": [
    "print s.summary()"
   ]
  },
  {
   "cell_type": "code",
   "execution_count": 13,
   "metadata": {
    "collapsed": false
   },
   "outputs": [
    {
     "data": {
      "text/plain": [
       "OrderedDict([('R_avg', array([ 0.00216801+0.j,  0.00215291+0.j,  0.00214937+0.j,  0.00214712+0.j,\n",
       "        0.00214341+0.j])), ('T_avg', array([ 0.99783199+0.j,  0.99784709+0.j,  0.99785063+0.j,  0.99785288+0.j,\n",
       "        0.99785659+0.j])), ('A_avg', array([ -2.86509168e-17+0.j,  -3.22322814e-17+0.j,   5.73018335e-17+0.j,\n",
       "        -4.29763751e-17+0.j,   5.73018335e-17+0.j]))])"
      ]
     },
     "execution_count": 13,
     "metadata": {},
     "output_type": "execute_result"
    }
   ],
   "source": [
    "s.primary['step_0']"
   ]
  },
  {
   "cell_type": "code",
   "execution_count": 14,
   "metadata": {
    "collapsed": false
   },
   "outputs": [
    {
     "data": {
      "text/plain": [
       "array([ 1.80388340+0.j,  1.78958950+0.j,  1.78030922+0.j,  1.77398767+0.j,\n",
       "        1.76950422+0.j])"
      ]
     },
     "execution_count": 14,
     "metadata": {},
     "output_type": "execute_result"
    }
   ],
   "source": [
    "s.results.step_0.selected_layer.material.earray"
   ]
  },
  {
   "cell_type": "code",
   "execution_count": 15,
   "metadata": {
    "collapsed": false
   },
   "outputs": [
    {
     "data": {
      "text/plain": [
       "{'selected_layer': {'layer_deisgnator': 'nanoparticle',\n",
       "  'layer_name': u'Nanosphere with Shell',\n",
       "  'layer_thickness': 50.0,\n",
       "  'material': {'Vfrac': 0.0,\n",
       "   'coverage': 0.0,\n",
       "   'earray': array([ 1.80388340+0.j,  1.78958950+0.j,  1.78030922+0.j,  1.77398767+0.j,\n",
       "           1.76950422+0.j]),\n",
       "   'material1': {'earray': array([ -1.65804018+5.73537742j,  -1.79638296+4.69169438j,\n",
       "            -5.93113230+2.09703696j, -11.20810497+1.3183559j ,\n",
       "           -16.48593276+1.0643488j ]),\n",
       "    'name': '',\n",
       "    'narray': array([ 1.46836478+1.95298113j,  1.27032653+1.84664898j,\n",
       "            0.42414925+2.47205075j,  0.19655738+3.35361593j,\n",
       "            0.13100000+4.0624j    ])},\n",
       "   'material2': {'earray': array([ 1.80388340+0.j,  1.78958950+0.j,  1.78030922+0.j,  1.77398767+0.j,\n",
       "            1.76950422+0.j]),\n",
       "    'name': 'Dispersive Water',\n",
       "    'narray': array([ 1.34308727+0.j,  1.33775540+0.j,  1.33428229+0.j,  1.33191129+0.j,\n",
       "            1.33022713+0.j])},\n",
       "   'material_core': {'earray': array([ -1.65804018+5.73537742j,  -1.79638296+4.69169438j,\n",
       "            -5.93113230+2.09703696j, -11.20810497+1.3183559j ,\n",
       "           -16.48593276+1.0643488j ]),\n",
       "    'name': '',\n",
       "    'narray': array([ 1.46836478+1.95298113j,  1.27032653+1.84664898j,\n",
       "            0.42414925+2.47205075j,  0.19655738+3.35361593j,\n",
       "            0.13100000+4.0624j    ])},\n",
       "   'material_medium': {'earray': array([ -1.65804018+5.73537742j,  -1.79638296+4.69169438j,\n",
       "            -5.93113230+2.09703696j, -11.20810497+1.3183559j ,\n",
       "           -16.48593276+1.0643488j ]),\n",
       "    'name': '',\n",
       "    'narray': array([ 1.46836478+1.95298113j,  1.27032653+1.84664898j,\n",
       "            0.42414925+2.47205075j,  0.19655738+3.35361593j,\n",
       "            0.13100000+4.0624j    ])},\n",
       "   'material_shell': {'Vfrac': 0.1,\n",
       "    'coverage': 19.0678,\n",
       "    'earray': array([ 1.82253077+0.j,  1.80817056+0.j,  1.79887493+0.j,  1.79254361+0.j,\n",
       "            1.78804385+0.j]),\n",
       "    'material1': {'earray': array([ 2.16124140+0.j,  2.14276659+0.j,  2.13133980+0.j,  2.12357174+0.j,\n",
       "             2.11787616+0.j]),\n",
       "     'name': 'Sellmeir',\n",
       "     'narray': array([ 1.47011612+0.j,  1.46381918+0.j,  1.45991089+0.j,  1.45724800+0.j,\n",
       "             1.45529247+0.j])},\n",
       "    'material2': {'earray': array([ 1.80388340+0.j,  1.78958950+0.j,  1.78030922+0.j,  1.77398767+0.j,\n",
       "             1.76950422+0.j]),\n",
       "     'name': 'Dispersive Water',\n",
       "     'narray': array([ 1.34308727+0.j,  1.33775540+0.j,  1.33428229+0.j,  1.33191129+0.j,\n",
       "             1.33022713+0.j])},\n",
       "    'mixing_style': 'MGMOD',\n",
       "    'name': 'Composite Material with Spherical Inclusions',\n",
       "    'narray': array([ 1.35001140+0.j,  1.34468233+0.j,  1.34122143+0.j,  1.33885907+0.j,\n",
       "            1.33717757+0.j]),\n",
       "    'platform': 'Shell Platform',\n",
       "    'r_particle': 1.0,\n",
       "    'r_plastform': 25.0},\n",
       "   'mie_composite': {'absorbance': array([ 15717.65708876,  17090.71394649,  21129.85830828,   5497.74330125,\n",
       "             1349.83390595]),\n",
       "    'extinction': array([ 24978.61446537,  24408.30581239,  49584.00694483,  27564.38319521,\n",
       "            10070.97157417]),\n",
       "    'r_core': 27.0,\n",
       "    'scattering': array([  9260.9573766 ,   7317.5918659 ,  28454.14863655,  22066.63989396,\n",
       "             8721.13766823])},\n",
       "   'mie_full': {'absorbance': array([ 15074.03788264,  16695.05712419,  20857.39006851,   5764.10485738,\n",
       "             1314.12326396]),\n",
       "    'extinction': array([ 24503.04736434,  24133.08416685,  49717.3032909 ,  29896.14747767,\n",
       "            10672.57086834]),\n",
       "    'r_core': 25.0,\n",
       "    'scattering': array([  9429.0094817 ,   7438.02704266,  28859.91322239,  24132.0426203 ,\n",
       "             9358.44760437]),\n",
       "    'shell_width': 2.0},\n",
       "   'mix': {'Vfrac': 0.0,\n",
       "    'coverage': 0.0,\n",
       "    'earray': array([ 1.80388340+0.j,  1.78958950+0.j,  1.78030922+0.j,  1.77398767+0.j,\n",
       "            1.76950422+0.j]),\n",
       "    'material1': {'Vfrac': 0.1,\n",
       "     'earray': array([  0.05620509+5.68043826j,  -0.51651628+4.79598268j,\n",
       "             -6.53272611+3.30949524j, -18.36810649+4.11805351j,\n",
       "            -45.66243684+9.3600461j ]),\n",
       "     'material1': {'earray': array([ -1.65804018+5.73537742j,  -1.79638296+4.69169438j,\n",
       "              -5.93113230+2.09703696j, -11.20810497+1.3183559j ,\n",
       "             -16.48593276+1.0643488j ]),\n",
       "      'name': '',\n",
       "      'narray': array([ 1.46836478+1.95298113j,  1.27032653+1.84664898j,\n",
       "              0.42414925+2.47205075j,  0.19655738+3.35361593j,\n",
       "              0.13100000+4.0624j    ])},\n",
       "     'material2': {'Vfrac': 0.1,\n",
       "      'coverage': 19.0678,\n",
       "      'earray': array([ 1.82253077+0.j,  1.80817056+0.j,  1.79887493+0.j,  1.79254361+0.j,\n",
       "              1.78804385+0.j]),\n",
       "      'material1': {'earray': array([ 2.16124140+0.j,  2.14276659+0.j,  2.13133980+0.j,  2.12357174+0.j,\n",
       "               2.11787616+0.j]),\n",
       "       'name': 'Sellmeir',\n",
       "       'narray': array([ 1.47011612+0.j,  1.46381918+0.j,  1.45991089+0.j,  1.45724800+0.j,\n",
       "               1.45529247+0.j])},\n",
       "      'material2': {'earray': array([ 1.80388340+0.j,  1.78958950+0.j,  1.78030922+0.j,  1.77398767+0.j,\n",
       "               1.76950422+0.j]),\n",
       "       'name': 'Dispersive Water',\n",
       "       'narray': array([ 1.34308727+0.j,  1.33775540+0.j,  1.33428229+0.j,  1.33191129+0.j,\n",
       "               1.33022713+0.j])},\n",
       "      'mixing_style': 'MGMOD',\n",
       "      'name': 'Composite Material with Spherical Inclusions',\n",
       "      'narray': array([ 1.35001140+0.j,  1.34468233+0.j,  1.34122143+0.j,  1.33885907+0.j,\n",
       "              1.33717757+0.j]),\n",
       "      'platform': 'Shell Platform',\n",
       "      'r_particle': 1.0,\n",
       "      'r_plastform': 25.0},\n",
       "     'mixing_style': 'Custom Equiv',\n",
       "     'name': '  IN   Composite Material with Spherical Inclusions',\n",
       "     'narray': array([ 1.69365306+1.67697812j,  1.46751491+1.63404905j,\n",
       "             0.62867903+2.63210247j,  0.47747559+4.31231834j,\n",
       "             0.68900526+6.7924344j ])},\n",
       "    'material2': {'earray': array([ 1.80388340+0.j,  1.78958950+0.j,  1.78030922+0.j,  1.77398767+0.j,\n",
       "             1.76950422+0.j]),\n",
       "     'name': 'Dispersive Water',\n",
       "     'narray': array([ 1.34308727+0.j,  1.33775540+0.j,  1.33428229+0.j,  1.33191129+0.j,\n",
       "             1.33022713+0.j])},\n",
       "    'mixing_style': 'MGMOD',\n",
       "    'name': 'Composite Material with Spherical Inclusions',\n",
       "    'narray': array([ 1.34308727+0.j,  1.33775540+0.j,  1.33428229+0.j,  1.33191129+0.j,\n",
       "            1.33022713+0.j]),\n",
       "    'platform': 'Disk',\n",
       "    'r_particle': 25.0,\n",
       "    'r_plastform': 31250.0},\n",
       "   'mixing_style': 'MGMOD',\n",
       "   'name': 'Composite NP:   IN Dispersive Water',\n",
       "   'narray': array([ 1.34308727+0.j,  1.33775540+0.j,  1.33428229+0.j,  1.33191129+0.j,\n",
       "           1.33022713+0.j]),\n",
       "   'platform': 'Disk',\n",
       "   'r_core': 25.0,\n",
       "   'r_particle': 2.0,\n",
       "   'r_plastform': 31250.0,\n",
       "   'shell_thickness': 2.0}}}"
      ]
     },
     "execution_count": 15,
     "metadata": {},
     "output_type": "execute_result"
    }
   ],
   "source": [
    "getattr(s.results, 'step_0')"
   ]
  },
  {
   "cell_type": "code",
   "execution_count": 16,
   "metadata": {
    "collapsed": false
   },
   "outputs": [],
   "source": [
    "s.promote('selected_layer.material.earray', alias='my buddy')"
   ]
  },
  {
   "cell_type": "code",
   "execution_count": 17,
   "metadata": {
    "collapsed": false
   },
   "outputs": [
    {
     "name": "stderr",
     "output_type": "stream",
     "text": [
      "/home/adam/Enthought/Canopy_32bit/User/lib/python2.7/site-packages/numpy/core/numeric.py:460: ComplexWarning: Casting complex values to real discards the imaginary part\n",
      "  return array(a, dtype, copy=False, order=order)\n"
     ]
    },
    {
     "data": {
      "text/plain": [
       "<matplotlib.axes.AxesSubplot at 0xab9516c>"
      ]
     },
     "execution_count": 17,
     "metadata": {},
     "output_type": "execute_result"
    },
    {
     "data": {
      "image/png": "[encoded data removed]",
      "text/plain": [
       "<matplotlib.figure.Figure at 0xab9098c>"
      ]
     },
     "metadata": {},
     "output_type": "display_data"
    }
   ],
   "source": [
    "s.primary_panel()['my buddy'].plot()"
   ]
  },
  {
   "cell_type": "code",
   "execution_count": 18,
   "metadata": {
    "collapsed": false
   },
   "outputs": [
    {
     "data": {
      "text/plain": [
       "{'Notes': '<ADD NOTES ON SIMULATION>',\n",
       " 'Simulation Name': 'Layersim0',\n",
       " 'Steps': 2,\n",
       " 'Storage': OrderedDict([('Optical Quantities', ['R', 'T', 'A']), ('Angle Averaging', 'Average'), ('Copy Full Optical Stack', False), ('Layer Quantities', []), ('Deep Layer Storage', 'Selected Layer')]),\n",
       " 'Time/Date': '(not started)'}"
      ]
     },
     "execution_count": 18,
     "metadata": {},
     "output_type": "execute_result"
    }
   ],
   "source": [
    "s.about"
   ]
  },
  {
   "cell_type": "code",
   "execution_count": 19,
   "metadata": {
    "collapsed": false
   },
   "outputs": [
    {
     "data": {
      "text/plain": [
       "{'step_0': OrderedDict([('R_avg', array([ 0.00216801+0.j,  0.00215291+0.j,  0.00214937+0.j,  0.00214712+0.j,\n",
       "        0.00214341+0.j])), ('T_avg', array([ 0.99783199+0.j,  0.99784709+0.j,  0.99785063+0.j,  0.99785288+0.j,\n",
       "        0.99785659+0.j])), ('A_avg', array([ -2.86509168e-17+0.j,  -3.22322814e-17+0.j,   5.73018335e-17+0.j,\n",
       "        -4.29763751e-17+0.j,   5.73018335e-17+0.j])), ('my buddy', array([ 1.80388340+0.j,  1.78958950+0.j,  1.78030922+0.j,  1.77398767+0.j,\n",
       "        1.76950422+0.j]))]),\n",
       " 'step_1': OrderedDict([('R_avg', array([ 0.00465287+0.j,  0.00544548+0.j,  0.01553146+0.j,  0.00594359+0.j,\n",
       "        0.00337459+0.j])), ('T_avg', array([ 0.76251334+0.j,  0.76507815+0.j,  0.75231331+0.j,  0.96924760+0.j,\n",
       "        0.99011884+0.j])), ('A_avg', array([ 0.23283379+0.j,  0.22947638+0.j,  0.23215523+0.j,  0.02480881+0.j,\n",
       "        0.00650658+0.j])), ('my buddy', array([ 1.99041846+0.24210784j,  1.94565623+0.28342002j,\n",
       "        2.43826147+0.37901252j,  2.26215203+0.03701163j,\n",
       "        2.17395963+0.01036426j]))])}"
      ]
     },
     "execution_count": 19,
     "metadata": {},
     "output_type": "execute_result"
    }
   ],
   "source": [
    "s.primary"
   ]
  },
  {
   "cell_type": "code",
   "execution_count": 20,
   "metadata": {
    "collapsed": false
   },
   "outputs": [
    {
     "data": {
      "text/plain": [
       "{'selected_layer.d': array([  50.,  100.]),\n",
       " 'selected_material.Vfrac': array([ 0. ,  0.1]),\n",
       " 'selected_material.r_core': array([ 25.,  50.])}"
      ]
     },
     "execution_count": 20,
     "metadata": {},
     "output_type": "execute_result"
    }
   ],
   "source": [
    "s.inputs"
   ]
  },
  {
   "cell_type": "code",
   "execution_count": 21,
   "metadata": {
    "collapsed": false
   },
   "outputs": [
    {
     "data": {
      "text/html": [
       "<div style=\"max-height:1000px;max-width:1500px;overflow:auto;\">\n",
       "<table border=\"1\" class=\"dataframe\">\n",
       "  <thead>\n",
       "    <tr style=\"text-align: right;\">\n",
       "      <th></th>\n",
       "      <th>selected_layer.d</th>\n",
       "      <th>selected_material.Vfrac</th>\n",
       "      <th>selected_material.r_core</th>\n",
       "    </tr>\n",
       "  </thead>\n",
       "  <tbody>\n",
       "    <tr>\n",
       "      <th>0</th>\n",
       "      <td>  50</td>\n",
       "      <td> 0.0</td>\n",
       "      <td> 25</td>\n",
       "    </tr>\n",
       "    <tr>\n",
       "      <th>1</th>\n",
       "      <td> 100</td>\n",
       "      <td> 0.1</td>\n",
       "      <td> 50</td>\n",
       "    </tr>\n",
       "  </tbody>\n",
       "</table>\n",
       "</div>"
      ],
      "text/plain": [
       "   selected_layer.d  selected_material.Vfrac  selected_material.r_core\n",
       "0                50                      0.0                        25\n",
       "1               100                      0.1                        50"
      ]
     },
     "execution_count": 21,
     "metadata": {},
     "output_type": "execute_result"
    }
   ],
   "source": [
    "from pandas import DataFrame\n",
    "DataFrame(s.inputs)"
   ]
  },
  {
   "cell_type": "code",
   "execution_count": 22,
   "metadata": {
    "collapsed": false
   },
   "outputs": [
    {
     "data": {
      "text/plain": [
       "<matplotlib.axes.AxesSubplot at 0xac8542c>"
      ]
     },
     "execution_count": 22,
     "metadata": {},
     "output_type": "execute_result"
    },
    {
     "data": {
      "image/png": "[encoded data removed]",
      "text/plain": [
       "<matplotlib.figure.Figure at 0xab8036c>"
      ]
     },
     "metadata": {},
     "output_type": "display_data"
    }
   ],
   "source": [
    "s.primary_panel(minor_axis='selected_material.Vfrac', prefix='d=')['R_avg'].plot()"
   ]
  },
  {
   "cell_type": "code",
   "execution_count": 23,
   "metadata": {
    "collapsed": false
   },
   "outputs": [
    {
     "data": {
      "text/plain": [
       "array([ 0.00216801+0.j,  0.00215291+0.j,  0.00214937+0.j,  0.00214712+0.j,\n",
       "        0.00214341+0.j])"
      ]
     },
     "execution_count": 23,
     "metadata": {},
     "output_type": "execute_result"
    }
   ],
   "source": [
    "s.primary['step_0']['R_avg']"
   ]
  },
  {
   "cell_type": "code",
   "execution_count": 24,
   "metadata": {
    "collapsed": false
   },
   "outputs": [
    {
     "data": {
      "text/plain": [
       "{'selected_layer.d': array([  50.,  100.]),\n",
       " 'selected_material.Vfrac': array([ 0. ,  0.1]),\n",
       " 'selected_material.r_core': array([ 25.,  50.])}"
      ]
     },
     "execution_count": 24,
     "metadata": {},
     "output_type": "execute_result"
    }
   ],
   "source": [
    "from traitsui.api import ValueEditor\n",
    "\n",
    "s.inputs"
   ]
  },
  {
   "cell_type": "code",
   "execution_count": 25,
   "metadata": {
    "collapsed": false
   },
   "outputs": [
    {
     "name": "stdout",
     "output_type": "stream",
     "text": [
      "Populating the interactive namespace from numpy and matplotlib\n"
     ]
    },
    {
     "data": {
      "image/png": "[encoded data removed]",
      "text/plain": [
       "<matplotlib.figure.Figure at 0xabc6aac>"
      ]
     },
     "metadata": {},
     "output_type": "display_data"
    }
   ],
   "source": [
    "%pylab inline\n",
    "s.primary_panel()['T_avg'].plot()\n",
    "plt.ylabel('Average Transmittance');"
   ]
  },
  {
   "cell_type": "code",
   "execution_count": 26,
   "metadata": {
    "collapsed": false
   },
   "outputs": [
    {
     "data": {
      "text/plain": [
       "array([ 1.80388340+0.j,  1.78958950+0.j,  1.78030922+0.j,  1.77398767+0.j,\n",
       "        1.76950422+0.j])"
      ]
     },
     "execution_count": 26,
     "metadata": {},
     "output_type": "execute_result"
    }
   ],
   "source": [
    "s.results['step_0']['selected_layer']['material']['earray']"
   ]
  },
  {
   "cell_type": "code",
   "execution_count": 27,
   "metadata": {
    "collapsed": false
   },
   "outputs": [
    {
     "ename": "NameError",
     "evalue": "name 'res2' is not defined",
     "output_type": "error",
     "traceback": [
      "\u001b[1;31m---------------------------------------------------------------------------\u001b[0m",
      "\u001b[1;31mNameError\u001b[0m                                 Traceback (most recent call last)",
      "\u001b[1;32m<ipython-input-27-0e6119bd26bb>\u001b[0m in \u001b[0;36m<module>\u001b[1;34m()\u001b[0m\n\u001b[1;32m----> 1\u001b[1;33m \u001b[0mres2\u001b[0m\u001b[1;33m.\u001b[0m\u001b[0mstep_0\u001b[0m\u001b[1;33m\u001b[0m\u001b[0m\n\u001b[0m",
      "\u001b[1;31mNameError\u001b[0m: name 'res2' is not defined"
     ]
    }
   ],
   "source": [
    "res2.step_0"
   ]
  },
  {
   "cell_type": "code",
   "execution_count": null,
   "metadata": {
    "collapsed": false
   },
   "outputs": [],
   "source": [
    "newaxis"
   ]
  },
  {
   "cell_type": "code",
   "execution_count": null,
   "metadata": {
    "collapsed": false
   },
   "outputs": [],
   "source": [
    "s.primary.rename(minor_axis=newaxis)"
   ]
  },
  {
   "cell_type": "code",
   "execution_count": null,
   "metadata": {
    "collapsed": false
   },
   "outputs": [],
   "source": [
    "s.about"
   ]
  },
  {
   "cell_type": "code",
   "execution_count": null,
   "metadata": {
    "collapsed": false
   },
   "outputs": [],
   "source": [
    "s.primary"
   ]
  },
  {
   "cell_type": "code",
   "execution_count": null,
   "metadata": {
    "collapsed": false
   },
   "outputs": [],
   "source": [
    "s._summary"
   ]
  },
  {
   "cell_type": "code",
   "execution_count": null,
   "metadata": {
    "collapsed": false
   },
   "outputs": [],
   "source": [
    "%pylab inline\n",
    "s.primary['A_avg'].plot()"
   ]
  },
  {
   "cell_type": "code",
   "execution_count": null,
   "metadata": {
    "collapsed": false
   },
   "outputs": [],
   "source": [
    "s.static"
   ]
  },
  {
   "cell_type": "code",
   "execution_count": null,
   "metadata": {
    "collapsed": false
   },
   "outputs": [],
   "source": [
    "s.about"
   ]
  },
  {
   "cell_type": "code",
   "execution_count": null,
   "metadata": {
    "collapsed": false
   },
   "outputs": [],
   "source": [
    "sorted(s.summary.items)"
   ]
  },
  {
   "cell_type": "code",
   "execution_count": null,
   "metadata": {
    "collapsed": false
   },
   "outputs": [],
   "source": [
    "s.primary_panel.reindex_axis(sorted(s.summary.items), \n",
    "                                                   axis=0, #minor axis \n",
    "                                                   copy=False) #save memory"
   ]
  },
  {
   "cell_type": "code",
   "execution_count": null,
   "metadata": {
    "collapsed": false
   },
   "outputs": [],
   "source": [
    "s.results"
   ]
  }
 ],
 "metadata": {
  "kernelspec": {
   "display_name": "Python 2",
   "name": "python2"
  },
  "language_info": {
   "codemirror_mode": {
    "name": "ipython",
    "version": 2
   },
   "file_extension": ".py",
   "mimetype": "text/x-python",
   "name": "python",
   "nbconvert_exporter": "python",
   "pygments_lexer": "ipython2",
   "version": "2.7.6"
  }
 },
 "nbformat": 4,
 "nbformat_minor": 0
}
